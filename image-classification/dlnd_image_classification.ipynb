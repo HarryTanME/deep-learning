{
 "cells": [
  {
   "cell_type": "markdown",
   "metadata": {
    "collapsed": true
   },
   "source": [
    "# Image Classification\n",
    "In this project, you'll classify images from the [CIFAR-10 dataset](https://www.cs.toronto.edu/~kriz/cifar.html).  The dataset consists of airplanes, dogs, cats, and other objects. You'll preprocess the images, then train a convolutional neural network on all the samples. The images need to be normalized and the labels need to be one-hot encoded.  You'll get to apply what you learned and build a convolutional, max pooling, dropout, and fully connected layers.  At the end, you'll get to see your neural network's predictions on the sample images.\n",
    "## Get the Data\n",
    "Run the following cell to download the [CIFAR-10 dataset for python](https://www.cs.toronto.edu/~kriz/cifar-10-python.tar.gz)."
   ]
  },
  {
   "cell_type": "code",
   "execution_count": 1,
   "metadata": {},
   "outputs": [
    {
     "name": "stdout",
     "output_type": "stream",
     "text": [
      "All files found!\n"
     ]
    }
   ],
   "source": [
    "\"\"\"\n",
    "DON'T MODIFY ANYTHING IN THIS CELL THAT IS BELOW THIS LINE\n",
    "\"\"\"\n",
    "from urllib.request import urlretrieve\n",
    "from os.path import isfile, isdir\n",
    "from tqdm import tqdm\n",
    "import problem_unittests as tests\n",
    "import tarfile\n",
    "\n",
    "cifar10_dataset_folder_path = 'cifar-10-batches-py'\n",
    "\n",
    "# Use Floyd's cifar-10 dataset if present\n",
    "floyd_cifar10_location = '/input/cifar-10/python.tar.gz'\n",
    "if isfile(floyd_cifar10_location):\n",
    "    tar_gz_path = floyd_cifar10_location\n",
    "else:\n",
    "    tar_gz_path = 'cifar-10-python.tar.gz'\n",
    "\n",
    "class DLProgress(tqdm):\n",
    "    last_block = 0\n",
    "\n",
    "    def hook(self, block_num=1, block_size=1, total_size=None):\n",
    "        self.total = total_size\n",
    "        self.update((block_num - self.last_block) * block_size)\n",
    "        self.last_block = block_num\n",
    "\n",
    "if not isfile(tar_gz_path):\n",
    "    with DLProgress(unit='B', unit_scale=True, miniters=1, desc='CIFAR-10 Dataset') as pbar:\n",
    "        urlretrieve(\n",
    "            'https://www.cs.toronto.edu/~kriz/cifar-10-python.tar.gz',\n",
    "            tar_gz_path,\n",
    "            pbar.hook)\n",
    "\n",
    "if not isdir(cifar10_dataset_folder_path):\n",
    "    with tarfile.open(tar_gz_path) as tar:\n",
    "        tar.extractall()\n",
    "        tar.close()\n",
    "\n",
    "\n",
    "tests.test_folder_path(cifar10_dataset_folder_path)"
   ]
  },
  {
   "cell_type": "markdown",
   "metadata": {},
   "source": [
    "## Explore the Data\n",
    "The dataset is broken into batches to prevent your machine from running out of memory.  The CIFAR-10 dataset consists of 5 batches, named `data_batch_1`, `data_batch_2`, etc.. Each batch contains the labels and images that are one of the following:\n",
    "* airplane\n",
    "* automobile\n",
    "* bird\n",
    "* cat\n",
    "* deer\n",
    "* dog\n",
    "* frog\n",
    "* horse\n",
    "* ship\n",
    "* truck\n",
    "\n",
    "Understanding a dataset is part of making predictions on the data.  Play around with the code cell below by changing the `batch_id` and `sample_id`. The `batch_id` is the id for a batch (1-5). The `sample_id` is the id for a image and label pair in the batch.\n",
    "\n",
    "Ask yourself \"What are all possible labels?\", \"What is the range of values for the image data?\", \"Are the labels in order or random?\".  Answers to questions like these will help you preprocess the data and end up with better predictions."
   ]
  },
  {
   "cell_type": "code",
   "execution_count": 2,
   "metadata": {},
   "outputs": [
    {
     "name": "stdout",
     "output_type": "stream",
     "text": [
      "\n",
      "Stats of batch 1:\n",
      "Samples: 10000\n",
      "Label Counts: {0: 1005, 1: 974, 2: 1032, 3: 1016, 4: 999, 5: 937, 6: 1030, 7: 1001, 8: 1025, 9: 981}\n",
      "First 20 Labels: [6, 9, 9, 4, 1, 1, 2, 7, 8, 3, 4, 7, 7, 2, 9, 9, 9, 3, 2, 6]\n",
      "\n",
      "Example of Image 5:\n",
      "Image - Min Value: 0 Max Value: 252\n",
      "Image - Shape: (32, 32, 3)\n",
      "Label - Label Id: 1 Name: automobile\n"
     ]
    },
    {
     "data": {
      "image/png": "[encoded data removed]",
      "text/plain": [
       "<matplotlib.figure.Figure at 0x7fb06f4967b8>"
      ]
     },
     "metadata": {
      "image/png": {
       "height": 250,
       "width": 253
      }
     },
     "output_type": "display_data"
    }
   ],
   "source": [
    "%matplotlib inline\n",
    "%config InlineBackend.figure_format = 'retina'\n",
    "\n",
    "import helper\n",
    "import numpy as np\n",
    "\n",
    "# Explore the dataset\n",
    "batch_id = 1\n",
    "sample_id = 5\n",
    "helper.display_stats(cifar10_dataset_folder_path, batch_id, sample_id)"
   ]
  },
  {
   "cell_type": "markdown",
   "metadata": {},
   "source": [
    "## Implement Preprocess Functions\n",
    "### Normalize\n",
    "In the cell below, implement the `normalize` function to take in image data, `x`, and return it as a normalized Numpy array. The values should be in the range of 0 to 1, inclusive.  The return object should be the same shape as `x`."
   ]
  },
  {
   "cell_type": "code",
   "execution_count": 3,
   "metadata": {},
   "outputs": [
    {
     "name": "stdout",
     "output_type": "stream",
     "text": [
      "Tests Passed\n"
     ]
    }
   ],
   "source": [
    "def normalize(x):\n",
    "    \"\"\"\n",
    "    Normalize a list of sample image data in the range of 0 to 1\n",
    "    : x: List of image data.  The image shape is (32, 32, 3)\n",
    "    : return: Numpy array of normalize data\n",
    "    \"\"\"\n",
    "    res = x/256\n",
    "    return res\n",
    "\n",
    "\n",
    "\"\"\"\n",
    "DON'T MODIFY ANYTHING IN THIS CELL THAT IS BELOW THIS LINE\n",
    "\"\"\"\n",
    "tests.test_normalize(normalize)"
   ]
  },
  {
   "cell_type": "markdown",
   "metadata": {},
   "source": [
    "### One-hot encode\n",
    "Just like the previous code cell, you'll be implementing a function for preprocessing.  This time, you'll implement the `one_hot_encode` function. The input, `x`, are a list of labels.  Implement the function to return the list of labels as One-Hot encoded Numpy array.  The possible values for labels are 0 to 9. The one-hot encoding function should return the same encoding for each value between each call to `one_hot_encode`.  Make sure to save the map of encodings outside the function.\n",
    "\n",
    "Hint: Don't reinvent the wheel."
   ]
  },
  {
   "cell_type": "code",
   "execution_count": 4,
   "metadata": {},
   "outputs": [
    {
     "name": "stdout",
     "output_type": "stream",
     "text": [
      "Tests Passed\n"
     ]
    }
   ],
   "source": [
    "def one_hot_encode(x):\n",
    "    \"\"\"\n",
    "    One hot encode a list of sample labels. Return a one-hot encoded vector for each label.\n",
    "    : x: List of sample Labels\n",
    "    : return: Numpy array of one-hot encoded labels\n",
    "    \"\"\"\n",
    "    # TODO: Implement Function\n",
    "    eyez = np.eye(10)\n",
    "    return np.vstack([eyez[i,:] for i in x])\n",
    "\n",
    "\n",
    "\"\"\"\n",
    "DON'T MODIFY ANYTHING IN THIS CELL THAT IS BELOW THIS LINE\n",
    "\"\"\"\n",
    "tests.test_one_hot_encode(one_hot_encode)"
   ]
  },
  {
   "cell_type": "markdown",
   "metadata": {},
   "source": [
    "### Randomize Data\n",
    "As you saw from exploring the data above, the order of the samples are randomized.  It doesn't hurt to randomize it again, but you don't need to for this dataset."
   ]
  },
  {
   "cell_type": "markdown",
   "metadata": {},
   "source": [
    "## Preprocess all the data and save it\n",
    "Running the code cell below will preprocess all the CIFAR-10 data and save it to file. The code below also uses 10% of the training data for validation."
   ]
  },
  {
   "cell_type": "code",
   "execution_count": 5,
   "metadata": {},
   "outputs": [],
   "source": [
    "\"\"\"\n",
    "DON'T MODIFY ANYTHING IN THIS CELL\n",
    "\"\"\"\n",
    "# Preprocess Training, Validation, and Testing Data\n",
    "helper.preprocess_and_save_data(cifar10_dataset_folder_path, normalize, one_hot_encode)"
   ]
  },
  {
   "cell_type": "markdown",
   "metadata": {},
   "source": [
    "# Check Point\n",
    "This is your first checkpoint.  If you ever decide to come back to this notebook or have to restart the notebook, you can start from here.  The preprocessed data has been saved to disk."
   ]
  },
  {
   "cell_type": "code",
   "execution_count": 6,
   "metadata": {
    "collapsed": true
   },
   "outputs": [],
   "source": [
    "\"\"\"\n",
    "DON'T MODIFY ANYTHING IN THIS CELL\n",
    "\"\"\"\n",
    "import pickle\n",
    "import problem_unittests as tests\n",
    "import helper\n",
    "\n",
    "# Load the Preprocessed Validation data\n",
    "valid_features, valid_labels = pickle.load(open('preprocess_validation.p', mode='rb'))"
   ]
  },
  {
   "cell_type": "markdown",
   "metadata": {},
   "source": [
    "## Build the network\n",
    "For the neural network, you'll build each layer into a function.  Most of the code you've seen has been outside of functions. To test your code more thoroughly, we require that you put each layer in a function.  This allows us to give you better feedback and test for simple mistakes using our unittests before you submit your project.\n",
    "\n",
    ">**Note:** If you're finding it hard to dedicate enough time for this course each week, we've provided a small shortcut to this part of the project. In the next couple of problems, you'll have the option to use classes from the [TensorFlow Layers](https://www.tensorflow.org/api_docs/python/tf/layers) or [TensorFlow Layers (contrib)](https://www.tensorflow.org/api_guides/python/contrib.layers) packages to build each layer, except the layers you build in the \"Convolutional and Max Pooling Layer\" section.  TF Layers is similar to Keras's and TFLearn's abstraction to layers, so it's easy to pickup.\n",
    "\n",
    ">However, if you would like to get the most out of this course, try to solve all the problems _without_ using anything from the TF Layers packages. You **can** still use classes from other packages that happen to have the same name as ones you find in TF Layers! For example, instead of using the TF Layers version of the `conv2d` class, [tf.layers.conv2d](https://www.tensorflow.org/api_docs/python/tf/layers/conv2d), you would want to use the TF Neural Network version of `conv2d`, [tf.nn.conv2d](https://www.tensorflow.org/api_docs/python/tf/nn/conv2d). \n",
    "\n",
    "Let's begin!\n",
    "\n",
    "### Input\n",
    "The neural network needs to read the image data, one-hot encoded labels, and dropout keep probability. Implement the following functions\n",
    "* Implement `neural_net_image_input`\n",
    " * Return a [TF Placeholder](https://www.tensorflow.org/api_docs/python/tf/placeholder)\n",
    " * Set the shape using `image_shape` with batch size set to `None`.\n",
    " * Name the TensorFlow placeholder \"x\" using the TensorFlow `name` parameter in the [TF Placeholder](https://www.tensorflow.org/api_docs/python/tf/placeholder).\n",
    "* Implement `neural_net_label_input`\n",
    " * Return a [TF Placeholder](https://www.tensorflow.org/api_docs/python/tf/placeholder)\n",
    " * Set the shape using `n_classes` with batch size set to `None`.\n",
    " * Name the TensorFlow placeholder \"y\" using the TensorFlow `name` parameter in the [TF Placeholder](https://www.tensorflow.org/api_docs/python/tf/placeholder).\n",
    "* Implement `neural_net_keep_prob_input`\n",
    " * Return a [TF Placeholder](https://www.tensorflow.org/api_docs/python/tf/placeholder) for dropout keep probability.\n",
    " * Name the TensorFlow placeholder \"keep_prob\" using the TensorFlow `name` parameter in the [TF Placeholder](https://www.tensorflow.org/api_docs/python/tf/placeholder).\n",
    "\n",
    "These names will be used at the end of the project to load your saved model.\n",
    "\n",
    "Note: `None` for shapes in TensorFlow allow for a dynamic size."
   ]
  },
  {
   "cell_type": "code",
   "execution_count": 7,
   "metadata": {},
   "outputs": [
    {
     "name": "stdout",
     "output_type": "stream",
     "text": [
      "Image Input Tests Passed.\n",
      "Label Input Tests Passed.\n",
      "Keep Prob Tests Passed.\n"
     ]
    }
   ],
   "source": [
    "import tensorflow as tf\n",
    "\n",
    "def neural_net_image_input(image_shape):\n",
    "    \"\"\"\n",
    "    Return a Tensor for a batch of image input\n",
    "    : image_shape: Shape of the images\n",
    "    : return: Tensor for image input.\n",
    "    \"\"\"\n",
    "    # TODO: Implement Function\n",
    "    a,b,c=image_shape\n",
    "    return tf.placeholder(tf.float32, [None, a,b,c], name='x')\n",
    "\n",
    "\n",
    "def neural_net_label_input(n_classes):\n",
    "    \"\"\"\n",
    "    Return a Tensor for a batch of label input\n",
    "    : n_classes: Number of classes\n",
    "    : return: Tensor for label input.\n",
    "    \"\"\"\n",
    "    # TODO: Implement Function\n",
    "    return tf.placeholder(tf.float32, [None, n_classes], name='y')\n",
    "\n",
    "\n",
    "def neural_net_keep_prob_input():\n",
    "    \"\"\"\n",
    "    Return a Tensor for keep probability\n",
    "    : return: Tensor for keep probability.\n",
    "    \"\"\"\n",
    "    # TODO: Implement Function\n",
    "    return tf.placeholder(tf.float32,name=\"keep_prob\")\n",
    "\n",
    "\n",
    "\"\"\"\n",
    "DON'T MODIFY ANYTHING IN THIS CELL THAT IS BELOW THIS LINE\n",
    "\"\"\"\n",
    "tf.reset_default_graph()\n",
    "tests.test_nn_image_inputs(neural_net_image_input)\n",
    "tests.test_nn_label_inputs(neural_net_label_input)\n",
    "tests.test_nn_keep_prob_inputs(neural_net_keep_prob_input)"
   ]
  },
  {
   "cell_type": "markdown",
   "metadata": {},
   "source": [
    "### Convolution and Max Pooling Layer\n",
    "Convolution layers have a lot of success with images. For this code cell, you should implement the function `conv2d_maxpool` to apply convolution then max pooling:\n",
    "* Create the weight and bias using `conv_ksize`, `conv_num_outputs` and the shape of `x_tensor`.\n",
    "* Apply a convolution to `x_tensor` using weight and `conv_strides`.\n",
    " * We recommend you use same padding, but you're welcome to use any padding.\n",
    "* Add bias\n",
    "* Add a nonlinear activation to the convolution.\n",
    "* Apply Max Pooling using `pool_ksize` and `pool_strides`.\n",
    " * We recommend you use same padding, but you're welcome to use any padding.\n",
    "\n",
    "**Note:** You **can't** use [TensorFlow Layers](https://www.tensorflow.org/api_docs/python/tf/layers) or [TensorFlow Layers (contrib)](https://www.tensorflow.org/api_guides/python/contrib.layers) for **this** layer, but you can still use TensorFlow's [Neural Network](https://www.tensorflow.org/api_docs/python/tf/nn) package. You may still use the shortcut option for all the **other** layers."
   ]
  },
  {
   "cell_type": "code",
   "execution_count": 8,
   "metadata": {},
   "outputs": [
    {
     "name": "stdout",
     "output_type": "stream",
     "text": [
      "Tests Passed\n"
     ]
    }
   ],
   "source": [
    "MEAN_INIT = 0.001\n",
    "STDDEV_INIT = 0.05\n",
    "\n",
    "def conv2d_maxpool(x_tensor, conv_num_outputs, conv_ksize, conv_strides, pool_ksize, pool_strides):\n",
    "    \"\"\"\n",
    "    Apply convolution then max pooling to x_tensor\n",
    "    :param x_tensor: TensorFlow Tensor\n",
    "    :param conv_num_outputs: Number of outputs for the convolutional layer\n",
    "    :param conv_ksize: kernal size 2-D Tuple for the convolutional layer\n",
    "    :param conv_strides: Stride 2-D Tuple for convolution\n",
    "    :param pool_ksize: kernal size 2-D Tuple for pool\n",
    "    :param pool_strides: Stride 2-D Tuple for pool\n",
    "    : return: A tensor that represents convolution and max pooling of x_tensor\n",
    "    \"\"\"\n",
    "    # TODO: Implement Function\n",
    "#     print(\"conv_ksize=\"+str(conv_ksize))\n",
    "#     print(\"conv_strides=\"+str(conv_strides))\n",
    "#     print(\"pool_ksize=\"+str(pool_ksize))\n",
    "#     print(\"conv_num_outputs\",conv_num_outputs)\n",
    "    x_batch, x_height, x_width, x_depth = x_tensor.shape\n",
    "    W = tf.Variable(tf.truncated_normal(mean=MEAN_INIT, stddev=STDDEV_INIT, shape=[*conv_ksize, x_depth.value, conv_num_outputs]))\n",
    "    bias = tf.Variable(tf.truncated_normal(mean=MEAN_INIT, stddev=STDDEV_INIT, shape=[conv_num_outputs]))\n",
    "    \n",
    "    x = tf.nn.conv2d(x_tensor, W, strides=[1,  *conv_strides, 1], padding='SAME')\n",
    "    x = tf.nn.bias_add(x, bias)\n",
    "    x = tf.nn.relu(x)\n",
    "\n",
    "    x = tf.nn.max_pool(x, ksize=[1, *pool_ksize, 1], strides=[1, *pool_strides, 1], padding='SAME')\n",
    "    return x \n",
    "\n",
    "\n",
    "\"\"\"\n",
    "DON'T MODIFY ANYTHING IN THIS CELL THAT IS BELOW THIS LINE\n",
    "\"\"\"\n",
    "tests.test_con_pool(conv2d_maxpool)"
   ]
  },
  {
   "cell_type": "markdown",
   "metadata": {},
   "source": [
    "### Flatten Layer\n",
    "Implement the `flatten` function to change the dimension of `x_tensor` from a 4-D tensor to a 2-D tensor.  The output should be the shape (*Batch Size*, *Flattened Image Size*). Shortcut option: you can use classes from the [TensorFlow Layers](https://www.tensorflow.org/api_docs/python/tf/layers) or [TensorFlow Layers (contrib)](https://www.tensorflow.org/api_guides/python/contrib.layers) packages for this layer. For more of a challenge, only use other TensorFlow packages."
   ]
  },
  {
   "cell_type": "code",
   "execution_count": 9,
   "metadata": {},
   "outputs": [
    {
     "name": "stdout",
     "output_type": "stream",
     "text": [
      "Tests Passed\n"
     ]
    }
   ],
   "source": [
    "def flatten(x_tensor):\n",
    "    \"\"\"\n",
    "    Flatten x_tensor to (Batch Size, Flattened Image Size)\n",
    "    : x_tensor: A tensor of size (Batch Size, ...), where ... are the image dimensions.\n",
    "    : return: A tensor of size (Batch Size, Flattened Image Size).\n",
    "    \"\"\"\n",
    "    # TODO: Implement Function\n",
    "    a,b,c =x_tensor.get_shape().as_list()[1:]\n",
    "    ss= tf.reshape(x_tensor, [-1,a*b*c ])\n",
    "    return ss\n",
    "\n",
    "\"\"\"\n",
    "DON'T MODIFY ANYTHING IN THIS CELL THAT IS BELOW THIS LINE\n",
    "\"\"\"\n",
    "tests.test_flatten(flatten)"
   ]
  },
  {
   "cell_type": "markdown",
   "metadata": {},
   "source": [
    "### Fully-Connected Layer\n",
    "Implement the `fully_conn` function to apply a fully connected layer to `x_tensor` with the shape (*Batch Size*, *num_outputs*). Shortcut option: you can use classes from the [TensorFlow Layers](https://www.tensorflow.org/api_docs/python/tf/layers) or [TensorFlow Layers (contrib)](https://www.tensorflow.org/api_guides/python/contrib.layers) packages for this layer. For more of a challenge, only use other TensorFlow packages."
   ]
  },
  {
   "cell_type": "code",
   "execution_count": 10,
   "metadata": {},
   "outputs": [
    {
     "name": "stdout",
     "output_type": "stream",
     "text": [
      "Tests Passed\n"
     ]
    }
   ],
   "source": [
    "def fully_conn(x_tensor, num_outputs):\n",
    "    \"\"\"\n",
    "    Apply a fully connected layer to x_tensor using weight and bias\n",
    "    : x_tensor: A 2-D tensor where the first dimension is batch size.\n",
    "    : num_outputs: The number of output that the new tensor should be.\n",
    "    : return: A 2-D tensor where the second dimension is num_outputs.\n",
    "    \"\"\"\n",
    "    # TODO: Implement Function\n",
    "#     size = x_tensor.shape.as_list()[1]\n",
    "#     weights=(tf.random_normal([size, num_outputs]))\n",
    "#     biases=tf.Variable(tf.random_normal([num_outputs]))\n",
    "#     x_tensor = tf.add(tf.matmul(x_tensor, weights), biases)\n",
    "#     x_tensor = tf.nn.relu(x_tensor)\n",
    "#     return x_tensor\n",
    "    weights = tf.Variable(tf.truncated_normal(mean=MEAN_INIT, stddev=STDDEV_INIT, shape=[x_tensor.shape[1].value, num_outputs]))\n",
    "    bias = tf.Variable(tf.truncated_normal(mean=MEAN_INIT, stddev=STDDEV_INIT, shape=[num_outputs]))\n",
    "    return tf.nn.relu(tf.add(tf.matmul(x_tensor, weights), bias))\n",
    "\n",
    "\n",
    "\"\"\"\n",
    "DON'T MODIFY ANYTHING IN THIS CELL THAT IS BELOW THIS LINE\n",
    "\"\"\"\n",
    "tests.test_fully_conn(fully_conn)"
   ]
  },
  {
   "cell_type": "markdown",
   "metadata": {},
   "source": [
    "### Output Layer\n",
    "Implement the `output` function to apply a fully connected layer to `x_tensor` with the shape (*Batch Size*, *num_outputs*). Shortcut option: you can use classes from the [TensorFlow Layers](https://www.tensorflow.org/api_docs/python/tf/layers) or [TensorFlow Layers (contrib)](https://www.tensorflow.org/api_guides/python/contrib.layers) packages for this layer. For more of a challenge, only use other TensorFlow packages.\n",
    "\n",
    "**Note:** Activation, softmax, or cross entropy should **not** be applied to this."
   ]
  },
  {
   "cell_type": "code",
   "execution_count": 11,
   "metadata": {},
   "outputs": [
    {
     "name": "stdout",
     "output_type": "stream",
     "text": [
      "Tests Passed\n"
     ]
    }
   ],
   "source": [
    "def output(x_tensor, num_outputs):\n",
    "    \"\"\"\n",
    "    Apply a output layer to x_tensor using weight and bias\n",
    "    : x_tensor: A 2-D tensor where the first dimension is batch size.\n",
    "    : num_outputs: The number of output that the new tensor should be.\n",
    "    : return: A 2-D tensor where the second dimension is num_outputs.\n",
    "    \"\"\"\n",
    "    # TODO: Implement Function\n",
    "#     size = x_tensor.shape.as_list()[1]\n",
    "#     weights= tf.Variable(tf.random_normal([size, num_outputs]))\n",
    "#     bias=tf.Variable(tf.random_normal([num_outputs]))\n",
    "#     out = tf.add(tf.matmul(x_tensor, weights), bias)\n",
    "#     return out\n",
    "    weights = tf.Variable(tf.truncated_normal(mean=MEAN_INIT, stddev=STDDEV_INIT, shape=[x_tensor.shape[1].value, num_outputs]))\n",
    "    bias = tf.Variable(tf.truncated_normal(mean=MEAN_INIT, stddev=STDDEV_INIT, shape=[num_outputs]))\n",
    "    return tf.add(tf.matmul(x_tensor, weights), bias)\n",
    "\n",
    "\n",
    "\"\"\"\n",
    "DON'T MODIFY ANYTHING IN THIS CELL THAT IS BELOW THIS LINE\n",
    "\"\"\"\n",
    "tests.test_output(output)"
   ]
  },
  {
   "cell_type": "markdown",
   "metadata": {},
   "source": [
    "### Create Convolutional Model\n",
    "Implement the function `conv_net` to create a convolutional neural network model. The function takes in a batch of images, `x`, and outputs logits.  Use the layers you created above to create this model:\n",
    "\n",
    "* Apply 1, 2, or 3 Convolution and Max Pool layers\n",
    "* Apply a Flatten Layer\n",
    "* Apply 1, 2, or 3 Fully Connected Layers\n",
    "* Apply an Output Layer\n",
    "* Return the output\n",
    "* Apply [TensorFlow's Dropout](https://www.tensorflow.org/api_docs/python/tf/nn/dropout) to one or more layers in the model using `keep_prob`. "
   ]
  },
  {
   "cell_type": "code",
   "execution_count": 12,
   "metadata": {},
   "outputs": [
    {
     "name": "stdout",
     "output_type": "stream",
     "text": [
      "Neural Network Built!\n"
     ]
    }
   ],
   "source": [
    "def conv_net(x_tensor, keep_prob):\n",
    "    \"\"\"\n",
    "    Create a convolutional neural network model\n",
    "    : x: Placeholder tensor that holds image data.\n",
    "    : keep_prob: Placeholder tensor that hold dropout keep probability.\n",
    "    : return: Tensor that represents logits\n",
    "    \"\"\"\n",
    "    # TODO: Apply 1, 2, or 3 Convolution and Max Pool layers\n",
    "    #    Play around with different number of outputs, kernel size and stride\n",
    "    # Function Definition from Above:\n",
    "    #    conv2d_maxpool(x_tensor, conv_num_outputs, conv_ksize, conv_strides, pool_ksize, pool_strides)\n",
    "    x_tensor =conv2d_maxpool(x_tensor, conv_num_outputs=16, conv_ksize=(5,5), conv_strides=(1,1), pool_ksize=(2,2), pool_strides=(2,2))\n",
    "    \n",
    "    x_tensor =conv2d_maxpool(x_tensor, conv_num_outputs=32, conv_ksize=(5,5), conv_strides=(1,1), pool_ksize=(2,2), pool_strides=(2,2))\n",
    "    \n",
    "    x_tensor =conv2d_maxpool(x_tensor, conv_num_outputs=64, conv_ksize=(5,5), conv_strides=(1,1), pool_ksize=(2,2), pool_strides=(2,2))\n",
    "    \n",
    "    \n",
    "    # TODO: Apply a Flatten Layer\n",
    "    # Function Definition from Above:\n",
    "    #   flatten(x_tensor)\n",
    "    x_tensor= flatten(x_tensor)\n",
    "\n",
    "    # TODO: Apply 1, 2, or 3 Fully Connected Layers\n",
    "    #    Play around with different number of outputs\n",
    "    # Function Definition from Above:\n",
    "    #   fully_conn(x_tensor, num_outputs)\n",
    "    x_tensor =fully_conn(x_tensor, num_outputs=1024)\n",
    "    x_tensor =fully_conn(x_tensor, num_outputs=786)\n",
    "    \n",
    "    x_tensor = tf.nn.dropout(x_tensor, keep_prob)\n",
    "    # TODO: Apply an Output Layer\n",
    "    #    Set this to the number of classes\n",
    "    # Function Definition from Above:\n",
    "    #   output(x_tensor, num_outputs)\n",
    "    x_tensor=output(x_tensor, num_outputs=10)\n",
    "    \n",
    "    # TODO: return output\n",
    "    return x_tensor\n",
    "\n",
    "\n",
    "\"\"\"\n",
    "DON'T MODIFY ANYTHING IN THIS CELL THAT IS BELOW THIS LINE\n",
    "\"\"\"\n",
    "\n",
    "##############################\n",
    "## Build the Neural Network ##\n",
    "##############################\n",
    "\n",
    "# Remove previous weights, bias, inputs, etc..\n",
    "tf.reset_default_graph()\n",
    "\n",
    "# Inputs\n",
    "x = neural_net_image_input((32, 32, 3))\n",
    "y = neural_net_label_input(10)\n",
    "keep_prob = neural_net_keep_prob_input()\n",
    "\n",
    "# Model\n",
    "logits = conv_net(x, keep_prob)\n",
    "\n",
    "# Name logits Tensor, so that is can be loaded from disk after training\n",
    "logits = tf.identity(logits, name='logits')\n",
    "\n",
    "# Loss and Optimizer\n",
    "cost = tf.reduce_mean(tf.nn.softmax_cross_entropy_with_logits(logits=logits, labels=y))\n",
    "optimizer = tf.train.AdamOptimizer().minimize(cost)\n",
    "\n",
    "# Accuracy\n",
    "correct_pred = tf.equal(tf.argmax(logits, 1), tf.argmax(y, 1))\n",
    "accuracy = tf.reduce_mean(tf.cast(correct_pred, tf.float32), name='accuracy')\n",
    "\n",
    "tests.test_conv_net(conv_net)"
   ]
  },
  {
   "cell_type": "markdown",
   "metadata": {},
   "source": [
    "## Train the Neural Network\n",
    "### Single Optimization\n",
    "Implement the function `train_neural_network` to do a single optimization.  The optimization should use `optimizer` to optimize in `session` with a `feed_dict` of the following:\n",
    "* `x` for image input\n",
    "* `y` for labels\n",
    "* `keep_prob` for keep probability for dropout\n",
    "\n",
    "This function will be called for each batch, so `tf.global_variables_initializer()` has already been called.\n",
    "\n",
    "Note: Nothing needs to be returned. This function is only optimizing the neural network."
   ]
  },
  {
   "cell_type": "code",
   "execution_count": 13,
   "metadata": {},
   "outputs": [
    {
     "name": "stdout",
     "output_type": "stream",
     "text": [
      "Tests Passed\n"
     ]
    }
   ],
   "source": [
    "def train_neural_network(session, optimizer, keep_probability, feature_batch, label_batch):\n",
    "    \"\"\"\n",
    "    Optimize the session on a batch of images and labels\n",
    "    : session: Current TensorFlow session\n",
    "    : optimizer: TensorFlow optimizer function\n",
    "    : keep_probability: keep probability\n",
    "    : feature_batch: Batch of Numpy image data\n",
    "    : label_batch: Batch of Numpy label data\n",
    "    \"\"\"\n",
    "    # TODO: Implement Function\n",
    "    session.run(optimizer, feed_dict={x: feature_batch, y: label_batch, keep_prob: keep_probability})\n",
    "    \n",
    "\n",
    "\n",
    "\"\"\"\n",
    "DON'T MODIFY ANYTHING IN THIS CELL THAT IS BELOW THIS LINE\n",
    "\"\"\"\n",
    "tests.test_train_nn(train_neural_network)"
   ]
  },
  {
   "cell_type": "markdown",
   "metadata": {},
   "source": [
    "### Show Stats\n",
    "Implement the function `print_stats` to print loss and validation accuracy.  Use the global variables `valid_features` and `valid_labels` to calculate validation accuracy.  Use a keep probability of `1.0` to calculate the loss and validation accuracy."
   ]
  },
  {
   "cell_type": "code",
   "execution_count": 14,
   "metadata": {
    "collapsed": true
   },
   "outputs": [],
   "source": [
    "import sys\n",
    "\n",
    "def print_stats(session, feature_batch, label_batch, cost, accuracy):\n",
    "    \"\"\"\n",
    "    Print information about loss and validation accuracy\n",
    "    : session: Current TensorFlow session\n",
    "    : feature_batch: Batch of Numpy image data\n",
    "    : label_batch: Batch of Numpy label data\n",
    "    : cost: TensorFlow cost function\n",
    "    : accuracy: TensorFlow accuracy function\n",
    "    \"\"\"\n",
    "    # TODO: Implement Function\n",
    "#     loss, acc = sess.run([cost, accuracy], feed_dict={x: feature_batch,\n",
    "#                                                                  y: label_batch,\n",
    "#                                                                  keep_prob: 1.0})\n",
    "#     print(\"\\r cost: {:.4f}\".format(loss)  \\\n",
    "#                      + \" ... accuracy: {:.3f}\".format(acc))\n",
    "\n",
    "    feed_cost = {'keep_prob:0': 1.0, 'x:0': feature_batch, 'y:0': label_batch}\n",
    "    feed_valid = {'keep_prob:0': 1.0, 'x:0': valid_features, 'y:0': valid_labels}\n",
    "    cost = session.run(cost, feed_dict=feed_cost)\n",
    "    accuracy = session.run(accuracy, feed_dict=feed_valid)\n",
    "    print(\"cost: {}, accuracy: {}\".format(cost, accuracy))"
   ]
  },
  {
   "cell_type": "markdown",
   "metadata": {},
   "source": [
    "### Hyperparameters\n",
    "Tune the following parameters:\n",
    "* Set `epochs` to the number of iterations until the network stops learning or start overfitting\n",
    "* Set `batch_size` to the highest number that your machine has memory for.  Most people set them to common sizes of memory:\n",
    " * 64\n",
    " * 128\n",
    " * 256\n",
    " * ...\n",
    "* Set `keep_probability` to the probability of keeping a node using dropout"
   ]
  },
  {
   "cell_type": "code",
   "execution_count": 15,
   "metadata": {
    "collapsed": true
   },
   "outputs": [],
   "source": [
    "# TODO: Tune Parameters\n",
    "epochs = 30\n",
    "batch_size = 128\n",
    "keep_probability = 0.75"
   ]
  },
  {
   "cell_type": "markdown",
   "metadata": {},
   "source": [
    "### Train on a Single CIFAR-10 Batch\n",
    "Instead of training the neural network on all the CIFAR-10 batches of data, let's use a single batch. This should save time while you iterate on the model to get a better accuracy.  Once the final validation accuracy is 50% or greater, run the model on all the data in the next section."
   ]
  },
  {
   "cell_type": "code",
   "execution_count": 16,
   "metadata": {},
   "outputs": [
    {
     "name": "stdout",
     "output_type": "stream",
     "text": [
      "Checking the Training on a Single Batch...\n",
      "Epoch  1, CIFAR-10 Batch 1:  cost: 2.183992624282837, accuracy: 0.29159998893737793\n",
      "Epoch  2, CIFAR-10 Batch 1:  cost: 1.894454002380371, accuracy: 0.39899998903274536\n",
      "Epoch  3, CIFAR-10 Batch 1:  cost: 1.5803117752075195, accuracy: 0.4490000009536743\n",
      "Epoch  4, CIFAR-10 Batch 1:  cost: 1.2524070739746094, accuracy: 0.4867999255657196\n",
      "Epoch  5, CIFAR-10 Batch 1:  cost: 1.0106068849563599, accuracy: 0.5135998725891113\n",
      "Epoch  6, CIFAR-10 Batch 1:  cost: 0.8054006099700928, accuracy: 0.5313999056816101\n",
      "Epoch  7, CIFAR-10 Batch 1:  cost: 0.6843701004981995, accuracy: 0.5211999416351318\n",
      "Epoch  8, CIFAR-10 Batch 1:  cost: 0.5172499418258667, accuracy: 0.5151999592781067\n",
      "Epoch  9, CIFAR-10 Batch 1:  cost: 0.5157119035720825, accuracy: 0.51419997215271\n",
      "Epoch 10, CIFAR-10 Batch 1:  cost: 0.25923773646354675, accuracy: 0.5557999014854431\n",
      "Epoch 11, CIFAR-10 Batch 1:  cost: 0.23508591949939728, accuracy: 0.5411999821662903\n",
      "Epoch 12, CIFAR-10 Batch 1:  cost: 0.19541248679161072, accuracy: 0.538599967956543\n",
      "Epoch 13, CIFAR-10 Batch 1:  cost: 0.1286424994468689, accuracy: 0.5293999314308167\n",
      "Epoch 14, CIFAR-10 Batch 1:  cost: 0.10242561995983124, accuracy: 0.5047999024391174\n",
      "Epoch 15, CIFAR-10 Batch 1:  cost: 0.08567792922258377, accuracy: 0.5201999545097351\n",
      "Epoch 16, CIFAR-10 Batch 1:  cost: 0.09911330044269562, accuracy: 0.5125999450683594\n",
      "Epoch 17, CIFAR-10 Batch 1:  cost: 0.04540366679430008, accuracy: 0.5249999761581421\n",
      "Epoch 18, CIFAR-10 Batch 1:  cost: 0.03446399047970772, accuracy: 0.5309998989105225\n",
      "Epoch 19, CIFAR-10 Batch 1:  cost: 0.02532629854977131, accuracy: 0.5299999117851257\n",
      "Epoch 20, CIFAR-10 Batch 1:  cost: 0.018777605146169662, accuracy: 0.5201999545097351\n",
      "Epoch 21, CIFAR-10 Batch 1:  cost: 0.005310640670359135, accuracy: 0.5287999510765076\n",
      "Epoch 22, CIFAR-10 Batch 1:  cost: 0.0042677284218370914, accuracy: 0.5365999937057495\n",
      "Epoch 23, CIFAR-10 Batch 1:  cost: 0.009336834773421288, accuracy: 0.5283998847007751\n",
      "Epoch 24, CIFAR-10 Batch 1:  cost: 0.00448982696980238, accuracy: 0.5303999185562134\n",
      "Epoch 25, CIFAR-10 Batch 1:  cost: 0.005513876676559448, accuracy: 0.5415999293327332\n",
      "Epoch 26, CIFAR-10 Batch 1:  cost: 0.0016015295404940844, accuracy: 0.5601998567581177\n",
      "Epoch 27, CIFAR-10 Batch 1:  cost: 0.0021092600654810667, accuracy: 0.5573999285697937\n",
      "Epoch 28, CIFAR-10 Batch 1:  cost: 0.003629211336374283, accuracy: 0.5547999739646912\n",
      "Epoch 29, CIFAR-10 Batch 1:  cost: 0.0011579777346923947, accuracy: 0.5457999110221863\n",
      "Epoch 30, CIFAR-10 Batch 1:  cost: 0.004545210395008326, accuracy: 0.5481999516487122\n"
     ]
    }
   ],
   "source": [
    "\"\"\"\n",
    "DON'T MODIFY ANYTHING IN THIS CELL\n",
    "\"\"\"\n",
    "print('Checking the Training on a Single Batch...')\n",
    "with tf.Session() as sess:\n",
    "    # Initializing the variables\n",
    "    sess.run(tf.global_variables_initializer())\n",
    "    \n",
    "    # Training cycle\n",
    "    for epoch in range(epochs):\n",
    "        batch_i = 1\n",
    "        for batch_features, batch_labels in helper.load_preprocess_training_batch(batch_i, batch_size):\n",
    "            train_neural_network(sess, optimizer, keep_probability, batch_features, batch_labels)\n",
    "        print('Epoch {:>2}, CIFAR-10 Batch {}:  '.format(epoch + 1, batch_i), end='')\n",
    "        print_stats(sess, batch_features, batch_labels, cost, accuracy)"
   ]
  },
  {
   "cell_type": "markdown",
   "metadata": {},
   "source": [
    "### Fully Train the Model\n",
    "Now that you got a good accuracy with a single CIFAR-10 batch, try it with all five batches."
   ]
  },
  {
   "cell_type": "code",
   "execution_count": 17,
   "metadata": {},
   "outputs": [
    {
     "name": "stdout",
     "output_type": "stream",
     "text": [
      "Training...\n",
      "Epoch  1, CIFAR-10 Batch 1:  cost: 2.089275360107422, accuracy: 0.3107999861240387\n",
      "Epoch  1, CIFAR-10 Batch 2:  cost: 1.547378420829773, accuracy: 0.40119999647140503\n",
      "Epoch  1, CIFAR-10 Batch 3:  cost: 1.1563501358032227, accuracy: 0.47019997239112854\n",
      "Epoch  1, CIFAR-10 Batch 4:  cost: 1.2972803115844727, accuracy: 0.5065999627113342\n",
      "Epoch  1, CIFAR-10 Batch 5:  cost: 1.343849778175354, accuracy: 0.5253999829292297\n",
      "Epoch  2, CIFAR-10 Batch 1:  cost: 1.3348431587219238, accuracy: 0.5483999252319336\n",
      "Epoch  2, CIFAR-10 Batch 2:  cost: 1.0917637348175049, accuracy: 0.5257999897003174\n",
      "Epoch  2, CIFAR-10 Batch 3:  cost: 0.858583390712738, accuracy: 0.5643999576568604\n",
      "Epoch  2, CIFAR-10 Batch 4:  cost: 0.9123308658599854, accuracy: 0.5811999440193176\n",
      "Epoch  2, CIFAR-10 Batch 5:  cost: 0.9576477408409119, accuracy: 0.602199912071228\n",
      "Epoch  3, CIFAR-10 Batch 1:  cost: 0.9625407457351685, accuracy: 0.6077998876571655\n",
      "Epoch  3, CIFAR-10 Batch 2:  cost: 0.7879816889762878, accuracy: 0.6061998605728149\n",
      "Epoch  3, CIFAR-10 Batch 3:  cost: 0.5233167409896851, accuracy: 0.6197999119758606\n",
      "Epoch  3, CIFAR-10 Batch 4:  cost: 0.5808349847793579, accuracy: 0.6333999037742615\n",
      "Epoch  3, CIFAR-10 Batch 5:  cost: 0.6123475432395935, accuracy: 0.6377999186515808\n",
      "Epoch  4, CIFAR-10 Batch 1:  cost: 0.7580912113189697, accuracy: 0.6375998854637146\n",
      "Epoch  4, CIFAR-10 Batch 2:  cost: 0.5291082859039307, accuracy: 0.6391999125480652\n",
      "Epoch  4, CIFAR-10 Batch 3:  cost: 0.35849031805992126, accuracy: 0.6547998189926147\n",
      "Epoch  4, CIFAR-10 Batch 4:  cost: 0.38450905680656433, accuracy: 0.6607998609542847\n",
      "Epoch  4, CIFAR-10 Batch 5:  cost: 0.4551457464694977, accuracy: 0.6481999158859253\n",
      "Epoch  5, CIFAR-10 Batch 1:  cost: 0.5272946357727051, accuracy: 0.6369999647140503\n",
      "Epoch  5, CIFAR-10 Batch 2:  cost: 0.4051809310913086, accuracy: 0.6605998873710632\n",
      "Epoch  5, CIFAR-10 Batch 3:  cost: 0.2321489155292511, accuracy: 0.6743999123573303\n",
      "Epoch  5, CIFAR-10 Batch 4:  cost: 0.24018594622612, accuracy: 0.662199854850769\n",
      "Epoch  5, CIFAR-10 Batch 5:  cost: 0.24148544669151306, accuracy: 0.6431999206542969\n",
      "Epoch  6, CIFAR-10 Batch 1:  cost: 0.2901235818862915, accuracy: 0.6413999199867249\n",
      "Epoch  6, CIFAR-10 Batch 2:  cost: 0.23962688446044922, accuracy: 0.6689998507499695\n",
      "Epoch  6, CIFAR-10 Batch 3:  cost: 0.1620674729347229, accuracy: 0.6711998581886292\n",
      "Epoch  6, CIFAR-10 Batch 4:  cost: 0.18810656666755676, accuracy: 0.6689998507499695\n",
      "Epoch  6, CIFAR-10 Batch 5:  cost: 0.14507333934307098, accuracy: 0.6449999213218689\n",
      "Epoch  7, CIFAR-10 Batch 1:  cost: 0.14664317667484283, accuracy: 0.6655999422073364\n",
      "Epoch  7, CIFAR-10 Batch 2:  cost: 0.16417883336544037, accuracy: 0.6743998527526855\n",
      "Epoch  7, CIFAR-10 Batch 3:  cost: 0.12679582834243774, accuracy: 0.6807998418807983\n",
      "Epoch  7, CIFAR-10 Batch 4:  cost: 0.13872674107551575, accuracy: 0.6665998101234436\n",
      "Epoch  7, CIFAR-10 Batch 5:  cost: 0.11242596805095673, accuracy: 0.6685998439788818\n",
      "Epoch  8, CIFAR-10 Batch 1:  cost: 0.10587216913700104, accuracy: 0.657599925994873\n",
      "Epoch  8, CIFAR-10 Batch 2:  cost: 0.09887297451496124, accuracy: 0.6621999144554138\n",
      "Epoch  8, CIFAR-10 Batch 3:  cost: 0.08228781819343567, accuracy: 0.6611998677253723\n",
      "Epoch  8, CIFAR-10 Batch 4:  cost: 0.1234789788722992, accuracy: 0.6591999530792236\n",
      "Epoch  8, CIFAR-10 Batch 5:  cost: 0.04328632727265358, accuracy: 0.6475998163223267\n",
      "Epoch  9, CIFAR-10 Batch 1:  cost: 0.10264214128255844, accuracy: 0.6469998955726624\n",
      "Epoch  9, CIFAR-10 Batch 2:  cost: 0.04036339372396469, accuracy: 0.6447998881340027\n",
      "Epoch  9, CIFAR-10 Batch 3:  cost: 0.03672085702419281, accuracy: 0.6675998568534851\n",
      "Epoch  9, CIFAR-10 Batch 4:  cost: 0.06894281506538391, accuracy: 0.6551998853683472\n",
      "Epoch  9, CIFAR-10 Batch 5:  cost: 0.04456495866179466, accuracy: 0.6707999110221863\n",
      "Epoch 10, CIFAR-10 Batch 1:  cost: 0.04063579440116882, accuracy: 0.655799925327301\n",
      "Epoch 10, CIFAR-10 Batch 2:  cost: 0.044929228723049164, accuracy: 0.6179999113082886\n",
      "Epoch 10, CIFAR-10 Batch 3:  cost: 0.037493959069252014, accuracy: 0.6485999226570129\n",
      "Epoch 10, CIFAR-10 Batch 4:  cost: 0.03214482218027115, accuracy: 0.6331998705863953\n",
      "Epoch 10, CIFAR-10 Batch 5:  cost: 0.01750727742910385, accuracy: 0.6655998229980469\n",
      "Epoch 11, CIFAR-10 Batch 1:  cost: 0.01916072517633438, accuracy: 0.6557998657226562\n",
      "Epoch 11, CIFAR-10 Batch 2:  cost: 0.02792484499514103, accuracy: 0.6267999410629272\n",
      "Epoch 11, CIFAR-10 Batch 3:  cost: 0.020045097917318344, accuracy: 0.6553998589515686\n",
      "Epoch 11, CIFAR-10 Batch 4:  cost: 0.01998685486614704, accuracy: 0.6335998773574829\n",
      "Epoch 11, CIFAR-10 Batch 5:  cost: 0.026382500305771828, accuracy: 0.6629998683929443\n",
      "Epoch 12, CIFAR-10 Batch 1:  cost: 0.03098573163151741, accuracy: 0.657599925994873\n",
      "Epoch 12, CIFAR-10 Batch 2:  cost: 0.009540388360619545, accuracy: 0.6373998522758484\n",
      "Epoch 12, CIFAR-10 Batch 3:  cost: 0.019902627915143967, accuracy: 0.6641998291015625\n",
      "Epoch 12, CIFAR-10 Batch 4:  cost: 0.0326586477458477, accuracy: 0.6477999091148376\n",
      "Epoch 12, CIFAR-10 Batch 5:  cost: 0.01527849305421114, accuracy: 0.6605998873710632\n",
      "Epoch 13, CIFAR-10 Batch 1:  cost: 0.01421876810491085, accuracy: 0.6401998400688171\n",
      "Epoch 13, CIFAR-10 Batch 2:  cost: 0.008714769035577774, accuracy: 0.6631998419761658\n",
      "Epoch 13, CIFAR-10 Batch 3:  cost: 0.01099306344985962, accuracy: 0.6627998948097229\n",
      "Epoch 13, CIFAR-10 Batch 4:  cost: 0.006710447836667299, accuracy: 0.6569998264312744\n",
      "Epoch 13, CIFAR-10 Batch 5:  cost: 0.014938071370124817, accuracy: 0.66239994764328\n",
      "Epoch 14, CIFAR-10 Batch 1:  cost: 0.010337851010262966, accuracy: 0.6517999172210693\n",
      "Epoch 14, CIFAR-10 Batch 2:  cost: 0.008987766690552235, accuracy: 0.6479998826980591\n",
      "Epoch 14, CIFAR-10 Batch 3:  cost: 0.00453077582642436, accuracy: 0.6631999015808105\n",
      "Epoch 14, CIFAR-10 Batch 4:  cost: 0.006558760069310665, accuracy: 0.6635998487472534\n",
      "Epoch 14, CIFAR-10 Batch 5:  cost: 0.005312773864716291, accuracy: 0.6697998642921448\n",
      "Epoch 15, CIFAR-10 Batch 1:  cost: 0.009703300893306732, accuracy: 0.675399899482727\n",
      "Epoch 15, CIFAR-10 Batch 2:  cost: 0.0064459978602826595, accuracy: 0.6455998420715332\n",
      "Epoch 15, CIFAR-10 Batch 3:  cost: 0.003859627526253462, accuracy: 0.675399899482727\n",
      "Epoch 15, CIFAR-10 Batch 4:  cost: 0.003873788984492421, accuracy: 0.668799877166748\n",
      "Epoch 15, CIFAR-10 Batch 5:  cost: 0.009979184716939926, accuracy: 0.675399899482727\n",
      "Epoch 16, CIFAR-10 Batch 1:  cost: 0.010656815953552723, accuracy: 0.6511998772621155\n",
      "Epoch 16, CIFAR-10 Batch 2:  cost: 0.012146957218647003, accuracy: 0.6469998955726624\n",
      "Epoch 16, CIFAR-10 Batch 3:  cost: 0.0028634448535740376, accuracy: 0.6671999096870422\n",
      "Epoch 16, CIFAR-10 Batch 4:  cost: 0.0038662394508719444, accuracy: 0.6707998514175415\n",
      "Epoch 16, CIFAR-10 Batch 5:  cost: 0.0071364110335707664, accuracy: 0.6729998588562012\n",
      "Epoch 17, CIFAR-10 Batch 1:  cost: 0.008320382796227932, accuracy: 0.6689998507499695\n",
      "Epoch 17, CIFAR-10 Batch 2:  cost: 0.0032620481215417385, accuracy: 0.6559998989105225\n",
      "Epoch 17, CIFAR-10 Batch 3:  cost: 0.001879791496321559, accuracy: 0.6811999082565308\n",
      "Epoch 17, CIFAR-10 Batch 4:  cost: 0.0031355840619653463, accuracy: 0.6737998723983765\n",
      "Epoch 17, CIFAR-10 Batch 5:  cost: 0.010040372610092163, accuracy: 0.6687999367713928\n",
      "Epoch 18, CIFAR-10 Batch 1:  cost: 0.004362583160400391, accuracy: 0.6721998453140259\n",
      "Epoch 18, CIFAR-10 Batch 2:  cost: 0.005970874335616827, accuracy: 0.6449999213218689\n",
      "Epoch 18, CIFAR-10 Batch 3:  cost: 0.0013101797085255384, accuracy: 0.6707998514175415\n",
      "Epoch 18, CIFAR-10 Batch 4:  cost: 0.0013074855087324977, accuracy: 0.6777999401092529\n",
      "Epoch 18, CIFAR-10 Batch 5:  cost: 0.0038112986367195845, accuracy: 0.6647999286651611\n",
      "Epoch 19, CIFAR-10 Batch 1:  cost: 0.003015468828380108, accuracy: 0.669999897480011\n",
      "Epoch 19, CIFAR-10 Batch 2:  cost: 0.003408986609429121, accuracy: 0.6465998888015747\n",
      "Epoch 19, CIFAR-10 Batch 3:  cost: 0.002219147514551878, accuracy: 0.6581999063491821\n",
      "Epoch 19, CIFAR-10 Batch 4:  cost: 0.0013151136226952076, accuracy: 0.6753998398780823\n",
      "Epoch 19, CIFAR-10 Batch 5:  cost: 0.002314539160579443, accuracy: 0.6723998785018921\n",
      "Epoch 20, CIFAR-10 Batch 1:  cost: 0.0015802551060914993, accuracy: 0.658599853515625\n"
     ]
    },
    {
     "name": "stdout",
     "output_type": "stream",
     "text": [
      "Epoch 20, CIFAR-10 Batch 2:  cost: 0.0006991631234996021, accuracy: 0.6691999435424805\n",
      "Epoch 20, CIFAR-10 Batch 3:  cost: 0.0034867371432483196, accuracy: 0.6581999063491821\n",
      "Epoch 20, CIFAR-10 Batch 4:  cost: 0.0007189048919826746, accuracy: 0.6777998805046082\n",
      "Epoch 20, CIFAR-10 Batch 5:  cost: 0.0024643295910209417, accuracy: 0.6571998596191406\n",
      "Epoch 21, CIFAR-10 Batch 1:  cost: 0.0037850418593734503, accuracy: 0.6649999618530273\n",
      "Epoch 21, CIFAR-10 Batch 2:  cost: 0.0006393339135684073, accuracy: 0.6747997999191284\n",
      "Epoch 21, CIFAR-10 Batch 3:  cost: 0.0009437286062166095, accuracy: 0.671799898147583\n",
      "Epoch 21, CIFAR-10 Batch 4:  cost: 0.0016666367882862687, accuracy: 0.6851998567581177\n",
      "Epoch 21, CIFAR-10 Batch 5:  cost: 0.0029456759802997112, accuracy: 0.668199896812439\n",
      "Epoch 22, CIFAR-10 Batch 1:  cost: 0.005062648560851812, accuracy: 0.6739998459815979\n",
      "Epoch 22, CIFAR-10 Batch 2:  cost: 0.0023064003325998783, accuracy: 0.6527999043464661\n",
      "Epoch 22, CIFAR-10 Batch 3:  cost: 0.003435384016484022, accuracy: 0.6791998744010925\n",
      "Epoch 22, CIFAR-10 Batch 4:  cost: 0.0035106237046420574, accuracy: 0.680199921131134\n",
      "Epoch 22, CIFAR-10 Batch 5:  cost: 0.0010565542615950108, accuracy: 0.6789999604225159\n",
      "Epoch 23, CIFAR-10 Batch 1:  cost: 0.0009416716056875885, accuracy: 0.6675998568534851\n",
      "Epoch 23, CIFAR-10 Batch 2:  cost: 0.0009618639596737921, accuracy: 0.6821998953819275\n",
      "Epoch 23, CIFAR-10 Batch 3:  cost: 0.0014059017412364483, accuracy: 0.6665998697280884\n",
      "Epoch 23, CIFAR-10 Batch 4:  cost: 0.001683451933786273, accuracy: 0.6755998730659485\n",
      "Epoch 23, CIFAR-10 Batch 5:  cost: 0.0016868733800947666, accuracy: 0.6513999104499817\n",
      "Epoch 24, CIFAR-10 Batch 1:  cost: 0.008484326303005219, accuracy: 0.668199896812439\n",
      "Epoch 24, CIFAR-10 Batch 2:  cost: 0.0009773405035957694, accuracy: 0.6733998656272888\n",
      "Epoch 24, CIFAR-10 Batch 3:  cost: 0.0005786293186247349, accuracy: 0.6793999075889587\n",
      "Epoch 24, CIFAR-10 Batch 4:  cost: 0.0009855539537966251, accuracy: 0.6757998466491699\n",
      "Epoch 24, CIFAR-10 Batch 5:  cost: 0.0018772303592413664, accuracy: 0.675399899482727\n",
      "Epoch 25, CIFAR-10 Batch 1:  cost: 0.0017421033699065447, accuracy: 0.6659999489784241\n",
      "Epoch 25, CIFAR-10 Batch 2:  cost: 0.0007283032173290849, accuracy: 0.6709998846054077\n",
      "Epoch 25, CIFAR-10 Batch 3:  cost: 0.0012107575312256813, accuracy: 0.6663998961448669\n",
      "Epoch 25, CIFAR-10 Batch 4:  cost: 0.001110333832912147, accuracy: 0.6801998615264893\n",
      "Epoch 25, CIFAR-10 Batch 5:  cost: 0.0015302430838346481, accuracy: 0.663599967956543\n",
      "Epoch 26, CIFAR-10 Batch 1:  cost: 0.012352829799056053, accuracy: 0.6543998718261719\n",
      "Epoch 26, CIFAR-10 Batch 2:  cost: 0.001644211821258068, accuracy: 0.6705999374389648\n",
      "Epoch 26, CIFAR-10 Batch 3:  cost: 0.0032239416614174843, accuracy: 0.6761999130249023\n",
      "Epoch 26, CIFAR-10 Batch 4:  cost: 0.0022729039192199707, accuracy: 0.673599898815155\n",
      "Epoch 26, CIFAR-10 Batch 5:  cost: 0.0007990722078830004, accuracy: 0.6719999313354492\n",
      "Epoch 27, CIFAR-10 Batch 1:  cost: 0.0018767733126878738, accuracy: 0.6807998418807983\n",
      "Epoch 27, CIFAR-10 Batch 2:  cost: 0.00021428974287118763, accuracy: 0.6741999387741089\n",
      "Epoch 27, CIFAR-10 Batch 3:  cost: 0.004872183781117201, accuracy: 0.6701998710632324\n",
      "Epoch 27, CIFAR-10 Batch 4:  cost: 0.0008820710354484618, accuracy: 0.6695998907089233\n",
      "Epoch 27, CIFAR-10 Batch 5:  cost: 0.0019247055752202868, accuracy: 0.6765998601913452\n",
      "Epoch 28, CIFAR-10 Batch 1:  cost: 0.0007780918385833502, accuracy: 0.6823998689651489\n",
      "Epoch 28, CIFAR-10 Batch 2:  cost: 0.004661081824451685, accuracy: 0.6649998426437378\n",
      "Epoch 28, CIFAR-10 Batch 3:  cost: 0.0010926666436716914, accuracy: 0.6591998338699341\n",
      "Epoch 28, CIFAR-10 Batch 4:  cost: 0.0004843432398047298, accuracy: 0.684199869632721\n",
      "Epoch 28, CIFAR-10 Batch 5:  cost: 0.0025994270108640194, accuracy: 0.6689997911453247\n",
      "Epoch 29, CIFAR-10 Batch 1:  cost: 0.000667375628836453, accuracy: 0.6785998940467834\n",
      "Epoch 29, CIFAR-10 Batch 2:  cost: 0.00017555043450556695, accuracy: 0.681199848651886\n",
      "Epoch 29, CIFAR-10 Batch 3:  cost: 0.0007975193439051509, accuracy: 0.6655998826026917\n",
      "Epoch 29, CIFAR-10 Batch 4:  cost: 0.005363160744309425, accuracy: 0.6661999225616455\n",
      "Epoch 29, CIFAR-10 Batch 5:  cost: 0.0004369729431346059, accuracy: 0.6693999171257019\n",
      "Epoch 30, CIFAR-10 Batch 1:  cost: 0.0007469728006981313, accuracy: 0.6765998005867004\n",
      "Epoch 30, CIFAR-10 Batch 2:  cost: 0.00041363047785125673, accuracy: 0.6845998764038086\n",
      "Epoch 30, CIFAR-10 Batch 3:  cost: 0.006375085562467575, accuracy: 0.6645998954772949\n",
      "Epoch 30, CIFAR-10 Batch 4:  cost: 0.00022662492119707167, accuracy: 0.6713998913764954\n",
      "Epoch 30, CIFAR-10 Batch 5:  cost: 0.0007055657333694398, accuracy: 0.6785998344421387\n"
     ]
    }
   ],
   "source": [
    "\"\"\"\n",
    "DON'T MODIFY ANYTHING IN THIS CELL\n",
    "\"\"\"\n",
    "save_model_path = './image_classification'\n",
    "\n",
    "print('Training...')\n",
    "with tf.Session() as sess:\n",
    "    # Initializing the variables\n",
    "    sess.run(tf.global_variables_initializer())\n",
    "    \n",
    "    # Training cycle\n",
    "    for epoch in range(epochs):\n",
    "        # Loop over all batches\n",
    "        n_batches = 5\n",
    "        for batch_i in range(1, n_batches + 1):\n",
    "            for batch_features, batch_labels in helper.load_preprocess_training_batch(batch_i, batch_size):\n",
    "                train_neural_network(sess, optimizer, keep_probability, batch_features, batch_labels)\n",
    "            print('Epoch {:>2}, CIFAR-10 Batch {}:  '.format(epoch + 1, batch_i), end='')\n",
    "            print_stats(sess, batch_features, batch_labels, cost, accuracy)\n",
    "            \n",
    "    # Save Model\n",
    "    saver = tf.train.Saver()\n",
    "    save_path = saver.save(sess, save_model_path)"
   ]
  },
  {
   "cell_type": "markdown",
   "metadata": {},
   "source": [
    "# Checkpoint\n",
    "The model has been saved to disk.\n",
    "## Test Model\n",
    "Test your model against the test dataset.  This will be your final accuracy. You should have an accuracy greater than 50%. If you don't, keep tweaking the model architecture and parameters."
   ]
  },
  {
   "cell_type": "code",
   "execution_count": 18,
   "metadata": {},
   "outputs": [
    {
     "name": "stdout",
     "output_type": "stream",
     "text": [
      "INFO:tensorflow:Restoring parameters from ./image_classification\n",
      "Testing Accuracy: 0.664754746835443\n",
      "\n"
     ]
    },
    {
     "data": {
      "image/png": "[encoded data removed]",
      "text/plain": [
       "<matplotlib.figure.Figure at 0x7fb0d9d26cc0>"
      ]
     },
     "metadata": {
      "image/png": {
       "height": 319,
       "width": 355
      }
     },
     "output_type": "display_data"
    }
   ],
   "source": [
    "\"\"\"\n",
    "DON'T MODIFY ANYTHING IN THIS CELL\n",
    "\"\"\"\n",
    "%matplotlib inline\n",
    "%config InlineBackend.figure_format = 'retina'\n",
    "\n",
    "import tensorflow as tf\n",
    "import pickle\n",
    "import helper\n",
    "import random\n",
    "\n",
    "# Set batch size if not already set\n",
    "try:\n",
    "    if batch_size:\n",
    "        pass\n",
    "except NameError:\n",
    "    batch_size = 64\n",
    "\n",
    "save_model_path = './image_classification'\n",
    "n_samples = 4\n",
    "top_n_predictions = 3\n",
    "\n",
    "def test_model():\n",
    "    \"\"\"\n",
    "    Test the saved model against the test dataset\n",
    "    \"\"\"\n",
    "\n",
    "    test_features, test_labels = pickle.load(open('preprocess_test.p', mode='rb'))\n",
    "    loaded_graph = tf.Graph()\n",
    "\n",
    "    with tf.Session(graph=loaded_graph) as sess:\n",
    "        # Load model\n",
    "        loader = tf.train.import_meta_graph(save_model_path + '.meta')\n",
    "        loader.restore(sess, save_model_path)\n",
    "\n",
    "        # Get Tensors from loaded model\n",
    "        loaded_x = loaded_graph.get_tensor_by_name('x:0')\n",
    "        loaded_y = loaded_graph.get_tensor_by_name('y:0')\n",
    "        loaded_keep_prob = loaded_graph.get_tensor_by_name('keep_prob:0')\n",
    "        loaded_logits = loaded_graph.get_tensor_by_name('logits:0')\n",
    "        loaded_acc = loaded_graph.get_tensor_by_name('accuracy:0')\n",
    "        \n",
    "        # Get accuracy in batches for memory limitations\n",
    "        test_batch_acc_total = 0\n",
    "        test_batch_count = 0\n",
    "        \n",
    "        for test_feature_batch, test_label_batch in helper.batch_features_labels(test_features, test_labels, batch_size):\n",
    "            test_batch_acc_total += sess.run(\n",
    "                loaded_acc,\n",
    "                feed_dict={loaded_x: test_feature_batch, loaded_y: test_label_batch, loaded_keep_prob: 1.0})\n",
    "            test_batch_count += 1\n",
    "\n",
    "        print('Testing Accuracy: {}\\n'.format(test_batch_acc_total/test_batch_count))\n",
    "\n",
    "        # Print Random Samples\n",
    "        random_test_features, random_test_labels = tuple(zip(*random.sample(list(zip(test_features, test_labels)), n_samples)))\n",
    "        random_test_predictions = sess.run(\n",
    "            tf.nn.top_k(tf.nn.softmax(loaded_logits), top_n_predictions),\n",
    "            feed_dict={loaded_x: random_test_features, loaded_y: random_test_labels, loaded_keep_prob: 1.0})\n",
    "        helper.display_image_predictions(random_test_features, random_test_labels, random_test_predictions)\n",
    "\n",
    "\n",
    "test_model()"
   ]
  },
  {
   "cell_type": "markdown",
   "metadata": {},
   "source": [
    "## Why 50-80% Accuracy?\n",
    "You might be wondering why you can't get an accuracy any higher. First things first, 50% isn't bad for a simple CNN.  Pure guessing would get you 10% accuracy. However, you might notice people are getting scores [well above 80%](http://rodrigob.github.io/are_we_there_yet/build/classification_datasets_results.html#43494641522d3130).  That's because we haven't taught you all there is to know about neural networks. We still need to cover a few more techniques.\n",
    "## Submitting This Project\n",
    "When submitting this project, make sure to run all the cells before saving the notebook.  Save the notebook file as \"dlnd_image_classification.ipynb\" and save it as a HTML file under \"File\" -> \"Download as\".  Include the \"helper.py\" and \"problem_unittests.py\" files in your submission."
   ]
  }
 ],
 "metadata": {
  "kernelspec": {
   "display_name": "Python 3",
   "language": "python",
   "name": "python3"
  },
  "language_info": {
   "codemirror_mode": {
    "name": "ipython",
    "version": 3
   },
   "file_extension": ".py",
   "mimetype": "text/x-python",
   "name": "python",
   "nbconvert_exporter": "python",
   "pygments_lexer": "ipython3",
   "version": "3.5.2"
  }
 },
 "nbformat": 4,
 "nbformat_minor": 1
}
