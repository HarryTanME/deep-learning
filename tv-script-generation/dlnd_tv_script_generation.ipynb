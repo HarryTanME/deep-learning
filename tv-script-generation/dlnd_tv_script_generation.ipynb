{
 "cells": [
  {
   "cell_type": "markdown",
   "metadata": {},
   "source": [
    "# TV Script Generation\n",
    "In this project, you'll generate your own [Simpsons](https://en.wikipedia.org/wiki/The_Simpsons) TV scripts using RNNs.  You'll be using part of the [Simpsons dataset](https://www.kaggle.com/wcukierski/the-simpsons-by-the-data) of scripts from 27 seasons.  The Neural Network you'll build will generate a new TV script for a scene at [Moe's Tavern](https://simpsonswiki.com/wiki/Moe's_Tavern).\n",
    "## Get the Data\n",
    "The data is already provided for you.  You'll be using a subset of the original dataset.  It consists of only the scenes in Moe's Tavern.  This doesn't include other versions of the tavern, like \"Moe's Cavern\", \"Flaming Moe's\", \"Uncle Moe's Family Feed-Bag\", etc.."
   ]
  },
  {
   "cell_type": "code",
   "execution_count": 25,
   "metadata": {},
   "outputs": [],
   "source": [
    "\"\"\"\n",
    "DON'T MODIFY ANYTHING IN THIS CELL\n",
    "\"\"\"\n",
    "import helper\n",
    "\n",
    "data_dir = './data/simpsons/moes_tavern_lines.txt'\n",
    "text = helper.load_data(data_dir)\n",
    "# Ignore notice, since we don't use it for analysing the data\n",
    "text = text[81:]"
   ]
  },
  {
   "cell_type": "markdown",
   "metadata": {},
   "source": [
    "## Explore the Data\n",
    "Play around with `view_sentence_range` to view different parts of the data."
   ]
  },
  {
   "cell_type": "code",
   "execution_count": 26,
   "metadata": {},
   "outputs": [
    {
     "name": "stdout",
     "output_type": "stream",
     "text": [
      "Dataset Stats\n",
      "Roughly the number of unique words: 11492\n",
      "Number of scenes: 262\n",
      "Average number of sentences in each scene: 15.2519083969\n",
      "Number of lines: 4258\n",
      "Average number of words in each line: 11.5016439643\n",
      "()\n",
      "The sentences 0 to 10:\n",
      "\n",
      "Moe_Szyslak: (INTO PHONE) Moe's Tavern. Where the elite meet to drink.\n",
      "Bart_Simpson: Eh, yeah, hello, is Mike there? Last name, Rotch.\n",
      "Moe_Szyslak: (INTO PHONE) Hold on, I'll check. (TO BARFLIES) Mike Rotch. Mike Rotch. Hey, has anybody seen Mike Rotch, lately?\n",
      "Moe_Szyslak: (INTO PHONE) Listen you little puke. One of these days I'm gonna catch you, and I'm gonna carve my name on your back with an ice pick.\n",
      "Moe_Szyslak: What's the matter Homer? You're not your normal effervescent self.\n",
      "Homer_Simpson: I got my problems, Moe. Give me another one.\n",
      "Moe_Szyslak: Homer, hey, you should not drink to forget your problems.\n",
      "Barney_Gumble: Yeah, you should only drink to enhance your social skills.\n",
      "\n"
     ]
    }
   ],
   "source": [
    "view_sentence_range = (0, 10)\n",
    "\n",
    "\"\"\"\n",
    "DON'T MODIFY ANYTHING IN THIS CELL\n",
    "\"\"\"\n",
    "import numpy as np\n",
    "\n",
    "print('Dataset Stats')\n",
    "print('Roughly the number of unique words: {}'.format(len({word: None for word in text.split()})))\n",
    "scenes = text.split('\\n\\n')\n",
    "print('Number of scenes: {}'.format(len(scenes)))\n",
    "sentence_count_scene = [scene.count('\\n') for scene in scenes]\n",
    "print('Average number of sentences in each scene: {}'.format(np.average(sentence_count_scene)))\n",
    "\n",
    "sentences = [sentence for scene in scenes for sentence in scene.split('\\n')]\n",
    "print('Number of lines: {}'.format(len(sentences)))\n",
    "word_count_sentence = [len(sentence.split()) for sentence in sentences]\n",
    "print('Average number of words in each line: {}'.format(np.average(word_count_sentence)))\n",
    "\n",
    "print()\n",
    "print('The sentences {} to {}:'.format(*view_sentence_range))\n",
    "print('\\n'.join(text.split('\\n')[view_sentence_range[0]:view_sentence_range[1]]))"
   ]
  },
  {
   "cell_type": "markdown",
   "metadata": {},
   "source": [
    "## Implement Preprocessing Functions\n",
    "The first thing to do to any dataset is preprocessing.  Implement the following preprocessing functions below:\n",
    "- Lookup Table\n",
    "- Tokenize Punctuation\n",
    "\n",
    "### Lookup Table\n",
    "To create a word embedding, you first need to transform the words to ids.  In this function, create two dictionaries:\n",
    "- Dictionary to go from the words to an id, we'll call `vocab_to_int`\n",
    "- Dictionary to go from the id to word, we'll call `int_to_vocab`\n",
    "\n",
    "Return these dictionaries in the following tuple `(vocab_to_int, int_to_vocab)`"
   ]
  },
  {
   "cell_type": "code",
   "execution_count": 27,
   "metadata": {},
   "outputs": [
    {
     "name": "stdout",
     "output_type": "stream",
     "text": [
      "Tests Passed\n"
     ]
    }
   ],
   "source": [
    "import numpy as np\n",
    "import problem_unittests as tests\n",
    "\n",
    "def create_lookup_tables(text):\n",
    "    \"\"\"\n",
    "    Create lookup tables for vocabulary\n",
    "    :param text: The text of tv scripts split into words\n",
    "    :return: A tuple of dicts (vocab_to_int, int_to_vocab)\n",
    "    \"\"\"\n",
    "    # TODO: Implement Function\n",
    "    uniq_words = set(text)\n",
    "    v2i = dict(zip(uniq_words, range(len(uniq_words))))\n",
    "    i2v = dict(zip(range(len(uniq_words)), uniq_words))\n",
    "    return v2i, i2v\n",
    "\n",
    "\n",
    "\"\"\"\n",
    "DON'T MODIFY ANYTHING IN THIS CELL THAT IS BELOW THIS LINE\n",
    "\"\"\"\n",
    "tests.test_create_lookup_tables(create_lookup_tables)"
   ]
  },
  {
   "cell_type": "markdown",
   "metadata": {},
   "source": [
    "### Tokenize Punctuation\n",
    "We'll be splitting the script into a word array using spaces as delimiters.  However, punctuations like periods and exclamation marks make it hard for the neural network to distinguish between the word \"bye\" and \"bye!\".\n",
    "\n",
    "Implement the function `token_lookup` to return a dict that will be used to tokenize symbols like \"!\" into \"||Exclamation_Mark||\".  Create a dictionary for the following symbols where the symbol is the key and value is the token:\n",
    "- Period ( . )\n",
    "- Comma ( , )\n",
    "- Quotation Mark ( \" )\n",
    "- Semicolon ( ; )\n",
    "- Exclamation mark ( ! )\n",
    "- Question mark ( ? )\n",
    "- Left Parentheses ( ( )\n",
    "- Right Parentheses ( ) )\n",
    "- Dash ( -- )\n",
    "- Return ( \\n )\n",
    "\n",
    "This dictionary will be used to token the symbols and add the delimiter (space) around it.  This separates the symbols as it's own word, making it easier for the neural network to predict on the next word. Make sure you don't use a token that could be confused as a word. Instead of using the token \"dash\", try using something like \"||dash||\"."
   ]
  },
  {
   "cell_type": "code",
   "execution_count": 28,
   "metadata": {},
   "outputs": [
    {
     "name": "stdout",
     "output_type": "stream",
     "text": [
      "Tests Passed\n"
     ]
    }
   ],
   "source": [
    "def token_lookup():\n",
    "    \"\"\"\n",
    "    Generate a dict to turn punctuation into a token.\n",
    "    :return: Tokenize dictionary where the key is the punctuation and the value is the token\n",
    "    \"\"\"\n",
    "    dic={'.':'|Period|', ',':'|Comma|', '\"':'|Quote|',';':'|Semicolon|', '!':'|Exclamation|', '?':'|Quotation|', '(':'|LeftPar|',')':'|RightPar|','--':'|Dash|','\\n':'|Return|'}\n",
    "    return dic\n",
    "\n",
    "\"\"\"\n",
    "DON'T MODIFY ANYTHING IN THIS CELL THAT IS BELOW THIS LINE\n",
    "\"\"\"\n",
    "tests.test_tokenize(token_lookup)"
   ]
  },
  {
   "cell_type": "markdown",
   "metadata": {},
   "source": [
    "## Preprocess all the data and save it\n",
    "Running the code cell below will preprocess all the data and save it to file."
   ]
  },
  {
   "cell_type": "code",
   "execution_count": 29,
   "metadata": {
    "collapsed": true
   },
   "outputs": [],
   "source": [
    "\"\"\"\n",
    "DON'T MODIFY ANYTHING IN THIS CELL\n",
    "\"\"\"\n",
    "# Preprocess Training, Validation, and Testing Data\n",
    "helper.preprocess_and_save_data(data_dir, token_lookup, create_lookup_tables)"
   ]
  },
  {
   "cell_type": "markdown",
   "metadata": {},
   "source": [
    "# Check Point\n",
    "This is your first checkpoint. If you ever decide to come back to this notebook or have to restart the notebook, you can start from here. The preprocessed data has been saved to disk."
   ]
  },
  {
   "cell_type": "code",
   "execution_count": 30,
   "metadata": {
    "collapsed": true
   },
   "outputs": [],
   "source": [
    "\"\"\"\n",
    "DON'T MODIFY ANYTHING IN THIS CELL\n",
    "\"\"\"\n",
    "import helper\n",
    "import numpy as np\n",
    "import problem_unittests as tests\n",
    "\n",
    "int_text, vocab_to_int, int_to_vocab, token_dict = helper.load_preprocess()"
   ]
  },
  {
   "cell_type": "markdown",
   "metadata": {},
   "source": [
    "## Build the Neural Network\n",
    "You'll build the components necessary to build a RNN by implementing the following functions below:\n",
    "- get_inputs\n",
    "- get_init_cell\n",
    "- get_embed\n",
    "- build_rnn\n",
    "- build_nn\n",
    "- get_batches\n",
    "\n",
    "### Check the Version of TensorFlow and Access to GPU"
   ]
  },
  {
   "cell_type": "code",
   "execution_count": 31,
   "metadata": {},
   "outputs": [
    {
     "name": "stdout",
     "output_type": "stream",
     "text": [
      "TensorFlow Version: 1.3.0\n",
      "Default GPU Device: /gpu:0\n"
     ]
    }
   ],
   "source": [
    "\"\"\"\n",
    "DON'T MODIFY ANYTHING IN THIS CELL\n",
    "\"\"\"\n",
    "from distutils.version import LooseVersion\n",
    "import warnings\n",
    "import tensorflow as tf\n",
    "\n",
    "# Check TensorFlow Version\n",
    "assert LooseVersion(tf.__version__) >= LooseVersion('1.0'), 'Please use TensorFlow version 1.0 or newer'\n",
    "print('TensorFlow Version: {}'.format(tf.__version__))\n",
    "\n",
    "# Check for a GPU\n",
    "if not tf.test.gpu_device_name():\n",
    "    warnings.warn('No GPU found. Please use a GPU to train your neural network.')\n",
    "else:\n",
    "    print('Default GPU Device: {}'.format(tf.test.gpu_device_name()))"
   ]
  },
  {
   "cell_type": "markdown",
   "metadata": {},
   "source": [
    "### Input\n",
    "Implement the `get_inputs()` function to create TF Placeholders for the Neural Network.  It should create the following placeholders:\n",
    "- Input text placeholder named \"input\" using the [TF Placeholder](https://www.tensorflow.org/api_docs/python/tf/placeholder) `name` parameter.\n",
    "- Targets placeholder\n",
    "- Learning Rate placeholder\n",
    "\n",
    "Return the placeholders in the following tuple `(Input, Targets, LearningRate)`"
   ]
  },
  {
   "cell_type": "code",
   "execution_count": 32,
   "metadata": {},
   "outputs": [
    {
     "name": "stdout",
     "output_type": "stream",
     "text": [
      "Tests Passed\n"
     ]
    }
   ],
   "source": [
    "def get_inputs():\n",
    "    \"\"\"\n",
    "    Create TF Placeholders for input, targets, and learning rate.\n",
    "    :return: Tuple (input, targets, learning rate)\n",
    "    \"\"\"\n",
    "    # TODO: Implement Function\n",
    "    inputs=tf.placeholder(tf.int32,[None,None], name='input')\n",
    "    targets=tf.placeholder(tf.int32,[None,None], name='targets')\n",
    "    lr = tf.placeholder(tf.float32, name='learningrate')\n",
    "    return inputs, targets, lr\n",
    "\n",
    "\n",
    "\"\"\"\n",
    "DON'T MODIFY ANYTHING IN THIS CELL THAT IS BELOW THIS LINE\n",
    "\"\"\"\n",
    "tests.test_get_inputs(get_inputs)"
   ]
  },
  {
   "cell_type": "markdown",
   "metadata": {},
   "source": [
    "### Build RNN Cell and Initialize\n",
    "Stack one or more [`BasicLSTMCells`](https://www.tensorflow.org/api_docs/python/tf/contrib/rnn/BasicLSTMCell) in a [`MultiRNNCell`](https://www.tensorflow.org/api_docs/python/tf/contrib/rnn/MultiRNNCell).\n",
    "- The Rnn size should be set using `rnn_size`\n",
    "- Initalize Cell State using the MultiRNNCell's [`zero_state()`](https://www.tensorflow.org/api_docs/python/tf/contrib/rnn/MultiRNNCell#zero_state) function\n",
    "    - Apply the name \"initial_state\" to the initial state using [`tf.identity()`](https://www.tensorflow.org/api_docs/python/tf/identity)\n",
    "\n",
    "Return the cell and initial state in the following tuple `(Cell, InitialState)`"
   ]
  },
  {
   "cell_type": "code",
   "execution_count": 33,
   "metadata": {},
   "outputs": [
    {
     "name": "stdout",
     "output_type": "stream",
     "text": [
      "Tests Passed\n"
     ]
    }
   ],
   "source": [
    "def get_init_cell(batch_size, rnn_size):\n",
    "    \"\"\"\n",
    "    Create an RNN Cell and initialize it.\n",
    "    :param batch_size: Size of batches\n",
    "    :param rnn_size: Size of RNNs\n",
    "    :return: Tuple (cell, initialize state)\n",
    "    \"\"\"\n",
    "    def build_cells(lstm_size):\n",
    "        # Your basic LSTM cell\n",
    "        lstm = tf.contrib.rnn.BasicLSTMCell(lstm_size)\n",
    "        return lstm\n",
    "    # Stack up multiple LSTM layers, for deep learning\n",
    "    layers=2\n",
    "    cell = tf.contrib.rnn.MultiRNNCell([build_cells(rnn_size) for x in range(layers)])\n",
    "    \n",
    "    # Getting an initial state of all zeros\n",
    "    initial_state = cell.zero_state(batch_size, tf.float32)\n",
    "    initial_state=  tf.identity(initial_state, name=\"initial_state\")\n",
    "    return cell, initial_state\n",
    "\n",
    "\n",
    "\"\"\"\n",
    "DON'T MODIFY ANYTHING IN THIS CELL THAT IS BELOW THIS LINE\n",
    "\"\"\"\n",
    "tests.test_get_init_cell(get_init_cell)"
   ]
  },
  {
   "cell_type": "markdown",
   "metadata": {},
   "source": [
    "### Word Embedding\n",
    "Apply embedding to `input_data` using TensorFlow.  Return the embedded sequence."
   ]
  },
  {
   "cell_type": "code",
   "execution_count": 34,
   "metadata": {},
   "outputs": [
    {
     "name": "stdout",
     "output_type": "stream",
     "text": [
      "Tests Passed\n"
     ]
    }
   ],
   "source": [
    "def get_embed(input_data, vocab_size, embed_dim):\n",
    "    \"\"\"\n",
    "    Create embedding for <input_data>.\n",
    "    :param input_data: TF placeholder for text input.\n",
    "    :param vocab_size: Number of words in vocabulary.\n",
    "    :param embed_dim: Number of embedding dimensions\n",
    "    :return: Embedded input.\n",
    "    \"\"\"\n",
    "    # TODO: Implement Function\n",
    "    \n",
    "    embedding = tf.Variable(tf.random_uniform([vocab_size, embed_dim],-0.1,0.1))\n",
    "    embed = tf.nn.embedding_lookup(embedding, input_data)\n",
    "#     print(input_data.shape, embed.shape)\n",
    "    return embed\n",
    "\n",
    "\n",
    "\"\"\"\n",
    "DON'T MODIFY ANYTHING IN THIS CELL THAT IS BELOW THIS LINE\n",
    "\"\"\"\n",
    "tests.test_get_embed(get_embed)"
   ]
  },
  {
   "cell_type": "markdown",
   "metadata": {},
   "source": [
    "### Build RNN\n",
    "You created a RNN Cell in the `get_init_cell()` function.  Time to use the cell to create a RNN.\n",
    "- Build the RNN using the [`tf.nn.dynamic_rnn()`](https://www.tensorflow.org/api_docs/python/tf/nn/dynamic_rnn)\n",
    " - Apply the name \"final_state\" to the final state using [`tf.identity()`](https://www.tensorflow.org/api_docs/python/tf/identity)\n",
    "\n",
    "Return the outputs and final_state state in the following tuple `(Outputs, FinalState)` "
   ]
  },
  {
   "cell_type": "code",
   "execution_count": 35,
   "metadata": {},
   "outputs": [
    {
     "name": "stdout",
     "output_type": "stream",
     "text": [
      "Tests Passed\n"
     ]
    }
   ],
   "source": [
    "def build_rnn(cell, inputs):\n",
    "    \"\"\"\n",
    "    Create a RNN using a RNN Cell\n",
    "    :param cell: RNN Cell\n",
    "    :param inputs: Input text data\n",
    "    :return: Tuple (Outputs, Final State)\n",
    "    \"\"\"\n",
    "    # TODO: Implement Function\n",
    "    outputs, final_state= tf.nn.dynamic_rnn(cell, inputs, dtype=tf.float32)\n",
    "    final_state= tf.identity(final_state, name='final_state')\n",
    "    return outputs, final_state\n",
    "\n",
    "\n",
    "\"\"\"\n",
    "DON'T MODIFY ANYTHING IN THIS CELL THAT IS BELOW THIS LINE\n",
    "\"\"\"\n",
    "tests.test_build_rnn(build_rnn)"
   ]
  },
  {
   "cell_type": "markdown",
   "metadata": {},
   "source": [
    "### Build the Neural Network\n",
    "Apply the functions you implemented above to:\n",
    "- Apply embedding to `input_data` using your `get_embed(input_data, vocab_size, embed_dim)` function.\n",
    "- Build RNN using `cell` and your `build_rnn(cell, inputs)` function.\n",
    "- Apply a fully connected layer with a linear activation and `vocab_size` as the number of outputs.\n",
    "\n",
    "Return the logits and final state in the following tuple (Logits, FinalState) "
   ]
  },
  {
   "cell_type": "code",
   "execution_count": 36,
   "metadata": {},
   "outputs": [
    {
     "ename": "AssertionError",
     "evalue": "Final state wrong shape.  Found shape (2, 2, 128, 256)",
     "output_type": "error",
     "traceback": [
      "\u001b[0;31m\u001b[0m",
      "\u001b[0;31mAssertionError\u001b[0mTraceback (most recent call last)",
      "\u001b[0;32m<ipython-input-36-4a4494c2d5f6>\u001b[0m in \u001b[0;36m<module>\u001b[0;34m()\u001b[0m\n\u001b[1;32m     28\u001b[0m \u001b[0mDON\u001b[0m\u001b[0;31m'\u001b[0m\u001b[0mT\u001b[0m \u001b[0mMODIFY\u001b[0m \u001b[0mANYTHING\u001b[0m \u001b[0mIN\u001b[0m \u001b[0mTHIS\u001b[0m \u001b[0mCELL\u001b[0m \u001b[0mTHAT\u001b[0m \u001b[0mIS\u001b[0m \u001b[0mBELOW\u001b[0m \u001b[0mTHIS\u001b[0m \u001b[0mLINE\u001b[0m\u001b[0;34m\u001b[0m\u001b[0m\n\u001b[1;32m     29\u001b[0m \"\"\"\n\u001b[0;32m---> 30\u001b[0;31m \u001b[0mtests\u001b[0m\u001b[0;34m.\u001b[0m\u001b[0mtest_build_nn\u001b[0m\u001b[0;34m(\u001b[0m\u001b[0mbuild_nn\u001b[0m\u001b[0;34m)\u001b[0m\u001b[0;34m\u001b[0m\u001b[0m\n\u001b[0m",
      "\u001b[0;32m/notebooks/work/deep-learning-udacity/tv-script-generation/problem_unittests.pyc\u001b[0m in \u001b[0;36mtest_build_nn\u001b[0;34m(build_nn)\u001b[0m\n\u001b[1;32m    265\u001b[0m             \u001b[0;34m'Outputs has wrong shape.  Found shape {}'\u001b[0m\u001b[0;34m.\u001b[0m\u001b[0mformat\u001b[0m\u001b[0;34m(\u001b[0m\u001b[0mlogits\u001b[0m\u001b[0;34m.\u001b[0m\u001b[0mget_shape\u001b[0m\u001b[0;34m(\u001b[0m\u001b[0;34m)\u001b[0m\u001b[0;34m)\u001b[0m\u001b[0;34m\u001b[0m\u001b[0m\n\u001b[1;32m    266\u001b[0m         \u001b[0;32massert\u001b[0m \u001b[0mfinal_state\u001b[0m\u001b[0;34m.\u001b[0m\u001b[0mget_shape\u001b[0m\u001b[0;34m(\u001b[0m\u001b[0;34m)\u001b[0m\u001b[0;34m.\u001b[0m\u001b[0mas_list\u001b[0m\u001b[0;34m(\u001b[0m\u001b[0;34m)\u001b[0m \u001b[0;34m==\u001b[0m \u001b[0;34m[\u001b[0m\u001b[0mtest_rnn_layer_size\u001b[0m\u001b[0;34m,\u001b[0m \u001b[0;36m2\u001b[0m\u001b[0;34m,\u001b[0m \u001b[0mNone\u001b[0m\u001b[0;34m,\u001b[0m \u001b[0mtest_rnn_size\u001b[0m\u001b[0;34m]\u001b[0m\u001b[0;34m,\u001b[0m\u001b[0;31m \u001b[0m\u001b[0;31m\\\u001b[0m\u001b[0;34m\u001b[0m\u001b[0m\n\u001b[0;32m--> 267\u001b[0;31m             \u001b[0;34m'Final state wrong shape.  Found shape {}'\u001b[0m\u001b[0;34m.\u001b[0m\u001b[0mformat\u001b[0m\u001b[0;34m(\u001b[0m\u001b[0mfinal_state\u001b[0m\u001b[0;34m.\u001b[0m\u001b[0mget_shape\u001b[0m\u001b[0;34m(\u001b[0m\u001b[0;34m)\u001b[0m\u001b[0;34m)\u001b[0m\u001b[0;34m\u001b[0m\u001b[0m\n\u001b[0m\u001b[1;32m    268\u001b[0m \u001b[0;34m\u001b[0m\u001b[0m\n\u001b[1;32m    269\u001b[0m     \u001b[0m_print_success_message\u001b[0m\u001b[0;34m(\u001b[0m\u001b[0;34m)\u001b[0m\u001b[0;34m\u001b[0m\u001b[0m\n",
      "\u001b[0;31mAssertionError\u001b[0m: Final state wrong shape.  Found shape (2, 2, 128, 256)"
     ]
    }
   ],
   "source": [
    "def build_nn(cell, rnn_size, input_data, vocab_size, embed_dim):\n",
    "    \"\"\"\n",
    "    Build part of the neural network\n",
    "    :param cell: RNN cell\n",
    "    :param rnn_size: Size of rnns\n",
    "    :param input_data: Input data\n",
    "    :param vocab_size: Vocabulary size\n",
    "    :param embed_dim: Number of embedding dimensions\n",
    "    :return: Tuple (Logits, FinalState)\n",
    "    \"\"\"\n",
    "    # TODO: Implement Function\n",
    "\n",
    "    embed = get_embed(input_data, vocab_size, embed_dim)\n",
    "    \n",
    "    outputs,final_state = build_rnn(cell, embed)\n",
    "    \n",
    "    predictions = tf.contrib.layers.fully_connected(outputs,\n",
    "                                               vocab_size,activation_fn = None,\n",
    "                                               biases_initializer = tf.zeros_initializer(),\n",
    "                                               weights_initializer= tf.contrib.layers.xavier_initializer_conv2d(\n",
    "                                                   uniform=True, \n",
    "                                                   seed=3, \n",
    "                                                   dtype=tf.float32))\n",
    "    return predictions, final_state\n",
    "\n",
    "\n",
    "\"\"\"\n",
    "DON'T MODIFY ANYTHING IN THIS CELL THAT IS BELOW THIS LINE\n",
    "\"\"\"\n",
    "tests.test_build_nn(build_nn)"
   ]
  },
  {
   "cell_type": "markdown",
   "metadata": {},
   "source": [
    "### Batches\n",
    "Implement `get_batches` to create batches of input and targets using `int_text`.  The batches should be a Numpy array with the shape `(number of batches, 2, batch size, sequence length)`. Each batch contains two elements:\n",
    "- The first element is a single batch of **input** with the shape `[batch size, sequence length]`\n",
    "- The second element is a single batch of **targets** with the shape `[batch size, sequence length]`\n",
    "\n",
    "If you can't fill the last batch with enough data, drop the last batch.\n",
    "\n",
    "For exmple, `get_batches([1, 2, 3, 4, 5, 6, 7, 8, 9, 10, 11, 12, 13, 14, 15, 16, 17, 18, 19, 20], 3, 2)` would return a Numpy array of the following:\n",
    "```\n",
    "[\n",
    "  # First Batch\n",
    "  [\n",
    "    # Batch of Input\n",
    "    [[ 1  2], [ 7  8], [13 14]]\n",
    "    # Batch of targets\n",
    "    [[ 2  3], [ 8  9], [14 15]]\n",
    "  ]\n",
    "\n",
    "  # Second Batch\n",
    "  [\n",
    "    # Batch of Input\n",
    "    [[ 3  4], [ 9 10], [15 16]]\n",
    "    # Batch of targets\n",
    "    [[ 4  5], [10 11], [16 17]]\n",
    "  ]\n",
    "\n",
    "  # Third Batch\n",
    "  [\n",
    "    # Batch of Input\n",
    "    [[ 5  6], [11 12], [17 18]]\n",
    "    # Batch of targets\n",
    "    [[ 6  7], [12 13], [18  1]]\n",
    "  ]\n",
    "]\n",
    "```\n",
    "\n",
    "Notice that the last target value in the last batch is the first input value of the first batch. In this case, `1`. This is a common technique used when creating sequence batches, although it is rather unintuitive."
   ]
  },
  {
   "cell_type": "code",
   "execution_count": 37,
   "metadata": {},
   "outputs": [
    {
     "name": "stdout",
     "output_type": "stream",
     "text": [
      "Tests Passed\n"
     ]
    }
   ],
   "source": [
    "def get_batches(int_text, batch_size, seq_length):\n",
    "    \"\"\"\n",
    "    Return batches of input and target\n",
    "    :param int_text: Text with the words replaced by their ids\n",
    "    :param batch_size: The size of batch\n",
    "    :param seq_length: The length of sequence\n",
    "    :return: Batches as a Numpy array\n",
    "    \"\"\"\n",
    "    # TODO: Implement Function\n",
    "    total_words = len(int_text)\n",
    "    total_batches = total_words // (batch_size*seq_length)\n",
    "    \n",
    "    inputs_start = 0;\n",
    "    inputs_end = total_batches*batch_size*seq_length\n",
    "    inputs_array = np.array(int_text[inputs_start:inputs_end])\n",
    "    inputs = np.split(np.array(int_text[inputs_start:inputs_end]).reshape(batch_size, -1), total_batches, 1)\n",
    "    \n",
    "    targets_start = inputs_start + 1\n",
    "    targets_end = inputs_end + 1\n",
    "    targets = np.split(np.array(int_text[targets_start:targets_end]).reshape(batch_size, -1), total_batches, 1)\n",
    "   \n",
    "    targets[total_batches-1][batch_size-1][seq_length-1] = inputs[0][0][0]    \n",
    "    \n",
    "    final = np.array(list(zip(inputs, targets))).reshape(total_batches, 2, batch_size, seq_length)\n",
    "\n",
    "    return final\n",
    "\n",
    "\"\"\"\n",
    "DON'T MODIFY ANYTHING IN THIS CELL THAT IS BELOW THIS LINE\n",
    "\"\"\"\n",
    "# print(get_batches([1, 2, 3, 4, 5, 6, 7, 8, 9, 10, 11, 12, 13, 14, 15, 16, 17, 18, 19, 20], 3, 2))\n",
    "tests.test_get_batches(get_batches)"
   ]
  },
  {
   "cell_type": "markdown",
   "metadata": {},
   "source": [
    "## Neural Network Training\n",
    "### Hyperparameters\n",
    "Tune the following parameters:\n",
    "\n",
    "- Set `num_epochs` to the number of epochs.\n",
    "- Set `batch_size` to the batch size.\n",
    "- Set `rnn_size` to the size of the RNNs.\n",
    "- Set `embed_dim` to the size of the embedding.\n",
    "- Set `seq_length` to the length of sequence.\n",
    "- Set `learning_rate` to the learning rate.\n",
    "- Set `show_every_n_batches` to the number of batches the neural network should print progress."
   ]
  },
  {
   "cell_type": "code",
   "execution_count": 38,
   "metadata": {
    "collapsed": true
   },
   "outputs": [],
   "source": [
    "# Number of Epochs\n",
    "num_epochs = 200\n",
    "# Batch Size\n",
    "batch_size = 128\n",
    "# RNN Size\n",
    "rnn_size = 512\n",
    "# Embedding Dimension Size\n",
    "embed_dim = 500\n",
    "# Sequence Length\n",
    "seq_length = 10\n",
    "# Learning Rate\n",
    "learning_rate = 0.001\n",
    "# Show stats for every n number of batches\n",
    "show_every_n_batches = 30\n",
    "\n",
    "\"\"\"\n",
    "DON'T MODIFY ANYTHING IN THIS CELL THAT IS BELOW THIS LINE\n",
    "\"\"\"\n",
    "save_dir = './save'"
   ]
  },
  {
   "cell_type": "markdown",
   "metadata": {},
   "source": [
    "### Build the Graph\n",
    "Build the graph using the neural network you implemented."
   ]
  },
  {
   "cell_type": "code",
   "execution_count": 39,
   "metadata": {
    "collapsed": true
   },
   "outputs": [],
   "source": [
    "\"\"\"\n",
    "DON'T MODIFY ANYTHING IN THIS CELL\n",
    "\"\"\"\n",
    "from tensorflow.contrib import seq2seq\n",
    "\n",
    "train_graph = tf.Graph()\n",
    "with train_graph.as_default():\n",
    "    vocab_size = len(int_to_vocab)\n",
    "    input_text, targets, lr = get_inputs()\n",
    "    input_data_shape = tf.shape(input_text)\n",
    "    cell, initial_state = get_init_cell(input_data_shape[0], rnn_size)\n",
    "    logits, final_state = build_nn(cell, rnn_size, input_text, vocab_size, embed_dim)\n",
    "\n",
    "    # Probabilities for generating words\n",
    "    probs = tf.nn.softmax(logits, name='probs')\n",
    "\n",
    "    # Loss function\n",
    "    cost = seq2seq.sequence_loss(\n",
    "        logits,\n",
    "        targets,\n",
    "        tf.ones([input_data_shape[0], input_data_shape[1]]))\n",
    "\n",
    "    # Optimizer\n",
    "    optimizer = tf.train.AdamOptimizer(lr)\n",
    "\n",
    "    # Gradient Clipping\n",
    "    gradients = optimizer.compute_gradients(cost)\n",
    "    capped_gradients = [(tf.clip_by_value(grad, -1., 1.), var) for grad, var in gradients if grad is not None]\n",
    "    train_op = optimizer.apply_gradients(capped_gradients)"
   ]
  },
  {
   "cell_type": "markdown",
   "metadata": {},
   "source": [
    "## Train\n",
    "Train the neural network on the preprocessed data.  If you have a hard time getting a good loss, check the [forums](https://discussions.udacity.com/) to see if anyone is having the same problem."
   ]
  },
  {
   "cell_type": "code",
   "execution_count": 40,
   "metadata": {},
   "outputs": [
    {
     "name": "stdout",
     "output_type": "stream",
     "text": [
      "Epoch   0 Batch    0/53   train_loss = 8.822\n",
      "Epoch   0 Batch   30/53   train_loss = 6.713\n",
      "Epoch   1 Batch    7/53   train_loss = 6.351\n",
      "Epoch   1 Batch   37/53   train_loss = 6.171\n",
      "Epoch   2 Batch   14/53   train_loss = 6.106\n",
      "Epoch   2 Batch   44/53   train_loss = 6.069\n",
      "Epoch   3 Batch   21/53   train_loss = 6.208\n",
      "Epoch   3 Batch   51/53   train_loss = 5.914\n",
      "Epoch   4 Batch   28/53   train_loss = 5.750\n",
      "Epoch   5 Batch    5/53   train_loss = 5.699\n",
      "Epoch   5 Batch   35/53   train_loss = 5.663\n",
      "Epoch   6 Batch   12/53   train_loss = 5.516\n",
      "Epoch   6 Batch   42/53   train_loss = 5.387\n",
      "Epoch   7 Batch   19/53   train_loss = 5.037\n",
      "Epoch   7 Batch   49/53   train_loss = 5.186\n",
      "Epoch   8 Batch   26/53   train_loss = 5.421\n",
      "Epoch   9 Batch    3/53   train_loss = 4.931\n",
      "Epoch   9 Batch   33/53   train_loss = 4.996\n",
      "Epoch  10 Batch   10/53   train_loss = 4.852\n",
      "Epoch  10 Batch   40/53   train_loss = 4.911\n",
      "Epoch  11 Batch   17/53   train_loss = 4.830\n",
      "Epoch  11 Batch   47/53   train_loss = 4.709\n",
      "Epoch  12 Batch   24/53   train_loss = 4.793\n",
      "Epoch  13 Batch    1/53   train_loss = 4.709\n",
      "Epoch  13 Batch   31/53   train_loss = 4.418\n",
      "Epoch  14 Batch    8/53   train_loss = 4.553\n",
      "Epoch  14 Batch   38/53   train_loss = 4.409\n",
      "Epoch  15 Batch   15/53   train_loss = 4.602\n",
      "Epoch  15 Batch   45/53   train_loss = 4.321\n",
      "Epoch  16 Batch   22/53   train_loss = 4.348\n",
      "Epoch  16 Batch   52/53   train_loss = 4.287\n",
      "Epoch  17 Batch   29/53   train_loss = 4.440\n",
      "Epoch  18 Batch    6/53   train_loss = 4.224\n",
      "Epoch  18 Batch   36/53   train_loss = 4.168\n",
      "Epoch  19 Batch   13/53   train_loss = 4.228\n",
      "Epoch  19 Batch   43/53   train_loss = 4.029\n",
      "Epoch  20 Batch   20/53   train_loss = 4.315\n",
      "Epoch  20 Batch   50/53   train_loss = 4.148\n",
      "Epoch  21 Batch   27/53   train_loss = 4.095\n",
      "Epoch  22 Batch    4/53   train_loss = 4.051\n",
      "Epoch  22 Batch   34/53   train_loss = 3.989\n",
      "Epoch  23 Batch   11/53   train_loss = 3.907\n",
      "Epoch  23 Batch   41/53   train_loss = 3.929\n",
      "Epoch  24 Batch   18/53   train_loss = 3.940\n",
      "Epoch  24 Batch   48/53   train_loss = 3.927\n",
      "Epoch  25 Batch   25/53   train_loss = 3.983\n",
      "Epoch  26 Batch    2/53   train_loss = 3.734\n",
      "Epoch  26 Batch   32/53   train_loss = 3.793\n",
      "Epoch  27 Batch    9/53   train_loss = 3.822\n",
      "Epoch  27 Batch   39/53   train_loss = 3.677\n",
      "Epoch  28 Batch   16/53   train_loss = 3.671\n",
      "Epoch  28 Batch   46/53   train_loss = 3.688\n",
      "Epoch  29 Batch   23/53   train_loss = 3.688\n",
      "Epoch  30 Batch    0/53   train_loss = 3.641\n",
      "Epoch  30 Batch   30/53   train_loss = 3.621\n",
      "Epoch  31 Batch    7/53   train_loss = 3.683\n",
      "Epoch  31 Batch   37/53   train_loss = 3.473\n",
      "Epoch  32 Batch   14/53   train_loss = 3.452\n",
      "Epoch  32 Batch   44/53   train_loss = 3.406\n",
      "Epoch  33 Batch   21/53   train_loss = 3.384\n",
      "Epoch  33 Batch   51/53   train_loss = 3.424\n",
      "Epoch  34 Batch   28/53   train_loss = 3.187\n",
      "Epoch  35 Batch    5/53   train_loss = 3.298\n",
      "Epoch  35 Batch   35/53   train_loss = 3.233\n",
      "Epoch  36 Batch   12/53   train_loss = 3.175\n",
      "Epoch  36 Batch   42/53   train_loss = 3.174\n",
      "Epoch  37 Batch   19/53   train_loss = 3.102\n",
      "Epoch  37 Batch   49/53   train_loss = 3.163\n",
      "Epoch  38 Batch   26/53   train_loss = 3.208\n",
      "Epoch  39 Batch    3/53   train_loss = 3.052\n",
      "Epoch  39 Batch   33/53   train_loss = 3.082\n",
      "Epoch  40 Batch   10/53   train_loss = 2.979\n",
      "Epoch  40 Batch   40/53   train_loss = 2.934\n",
      "Epoch  41 Batch   17/53   train_loss = 2.791\n",
      "Epoch  41 Batch   47/53   train_loss = 2.887\n",
      "Epoch  42 Batch   24/53   train_loss = 2.820\n",
      "Epoch  43 Batch    1/53   train_loss = 2.716\n",
      "Epoch  43 Batch   31/53   train_loss = 2.646\n",
      "Epoch  44 Batch    8/53   train_loss = 2.699\n",
      "Epoch  44 Batch   38/53   train_loss = 2.696\n",
      "Epoch  45 Batch   15/53   train_loss = 2.741\n",
      "Epoch  45 Batch   45/53   train_loss = 2.724\n",
      "Epoch  46 Batch   22/53   train_loss = 2.652\n",
      "Epoch  46 Batch   52/53   train_loss = 2.634\n",
      "Epoch  47 Batch   29/53   train_loss = 2.624\n",
      "Epoch  48 Batch    6/53   train_loss = 2.542\n",
      "Epoch  48 Batch   36/53   train_loss = 2.562\n",
      "Epoch  49 Batch   13/53   train_loss = 2.504\n",
      "Epoch  49 Batch   43/53   train_loss = 2.373\n",
      "Epoch  50 Batch   20/53   train_loss = 2.530\n",
      "Epoch  50 Batch   50/53   train_loss = 2.470\n",
      "Epoch  51 Batch   27/53   train_loss = 2.255\n",
      "Epoch  52 Batch    4/53   train_loss = 2.370\n",
      "Epoch  52 Batch   34/53   train_loss = 2.265\n",
      "Epoch  53 Batch   11/53   train_loss = 2.312\n",
      "Epoch  53 Batch   41/53   train_loss = 2.227\n",
      "Epoch  54 Batch   18/53   train_loss = 2.293\n",
      "Epoch  54 Batch   48/53   train_loss = 2.266\n",
      "Epoch  55 Batch   25/53   train_loss = 2.276\n",
      "Epoch  56 Batch    2/53   train_loss = 2.142\n",
      "Epoch  56 Batch   32/53   train_loss = 2.053\n",
      "Epoch  57 Batch    9/53   train_loss = 2.132\n",
      "Epoch  57 Batch   39/53   train_loss = 2.005\n",
      "Epoch  58 Batch   16/53   train_loss = 2.163\n",
      "Epoch  58 Batch   46/53   train_loss = 2.178\n",
      "Epoch  59 Batch   23/53   train_loss = 2.063\n",
      "Epoch  60 Batch    0/53   train_loss = 2.112\n",
      "Epoch  60 Batch   30/53   train_loss = 1.930\n",
      "Epoch  61 Batch    7/53   train_loss = 2.066\n",
      "Epoch  61 Batch   37/53   train_loss = 1.946\n",
      "Epoch  62 Batch   14/53   train_loss = 1.848\n",
      "Epoch  62 Batch   44/53   train_loss = 1.969\n",
      "Epoch  63 Batch   21/53   train_loss = 1.660\n",
      "Epoch  63 Batch   51/53   train_loss = 1.908\n",
      "Epoch  64 Batch   28/53   train_loss = 1.747\n",
      "Epoch  65 Batch    5/53   train_loss = 1.899\n",
      "Epoch  65 Batch   35/53   train_loss = 1.752\n",
      "Epoch  66 Batch   12/53   train_loss = 1.764\n",
      "Epoch  66 Batch   42/53   train_loss = 1.714\n",
      "Epoch  67 Batch   19/53   train_loss = 1.800\n",
      "Epoch  67 Batch   49/53   train_loss = 1.808\n",
      "Epoch  68 Batch   26/53   train_loss = 1.671\n",
      "Epoch  69 Batch    3/53   train_loss = 1.665\n",
      "Epoch  69 Batch   33/53   train_loss = 1.664\n",
      "Epoch  70 Batch   10/53   train_loss = 1.607\n",
      "Epoch  70 Batch   40/53   train_loss = 1.494\n",
      "Epoch  71 Batch   17/53   train_loss = 1.477\n",
      "Epoch  71 Batch   47/53   train_loss = 1.517\n",
      "Epoch  72 Batch   24/53   train_loss = 1.503\n",
      "Epoch  73 Batch    1/53   train_loss = 1.361\n",
      "Epoch  73 Batch   31/53   train_loss = 1.416\n",
      "Epoch  74 Batch    8/53   train_loss = 1.306\n",
      "Epoch  74 Batch   38/53   train_loss = 1.386\n",
      "Epoch  75 Batch   15/53   train_loss = 1.378\n",
      "Epoch  75 Batch   45/53   train_loss = 1.407\n",
      "Epoch  76 Batch   22/53   train_loss = 1.369\n",
      "Epoch  76 Batch   52/53   train_loss = 1.330\n",
      "Epoch  77 Batch   29/53   train_loss = 1.308\n",
      "Epoch  78 Batch    6/53   train_loss = 1.305\n",
      "Epoch  78 Batch   36/53   train_loss = 1.332\n",
      "Epoch  79 Batch   13/53   train_loss = 1.209\n",
      "Epoch  79 Batch   43/53   train_loss = 1.195\n",
      "Epoch  80 Batch   20/53   train_loss = 1.272\n",
      "Epoch  80 Batch   50/53   train_loss = 1.200\n",
      "Epoch  81 Batch   27/53   train_loss = 1.107\n",
      "Epoch  82 Batch    4/53   train_loss = 1.185\n",
      "Epoch  82 Batch   34/53   train_loss = 1.169\n",
      "Epoch  83 Batch   11/53   train_loss = 1.233\n",
      "Epoch  83 Batch   41/53   train_loss = 1.057\n",
      "Epoch  84 Batch   18/53   train_loss = 1.078\n",
      "Epoch  84 Batch   48/53   train_loss = 1.057\n",
      "Epoch  85 Batch   25/53   train_loss = 1.106\n",
      "Epoch  86 Batch    2/53   train_loss = 0.978\n",
      "Epoch  86 Batch   32/53   train_loss = 0.974\n",
      "Epoch  87 Batch    9/53   train_loss = 1.025\n",
      "Epoch  87 Batch   39/53   train_loss = 0.931\n",
      "Epoch  88 Batch   16/53   train_loss = 1.095\n",
      "Epoch  88 Batch   46/53   train_loss = 1.097\n",
      "Epoch  89 Batch   23/53   train_loss = 1.057\n",
      "Epoch  90 Batch    0/53   train_loss = 0.982\n",
      "Epoch  90 Batch   30/53   train_loss = 0.924\n",
      "Epoch  91 Batch    7/53   train_loss = 0.928\n",
      "Epoch  91 Batch   37/53   train_loss = 0.921\n",
      "Epoch  92 Batch   14/53   train_loss = 0.835\n",
      "Epoch  92 Batch   44/53   train_loss = 0.982\n",
      "Epoch  93 Batch   21/53   train_loss = 0.753\n",
      "Epoch  93 Batch   51/53   train_loss = 0.895\n",
      "Epoch  94 Batch   28/53   train_loss = 0.851\n",
      "Epoch  95 Batch    5/53   train_loss = 0.882\n",
      "Epoch  95 Batch   35/53   train_loss = 0.846\n",
      "Epoch  96 Batch   12/53   train_loss = 0.832\n",
      "Epoch  96 Batch   42/53   train_loss = 0.863\n",
      "Epoch  97 Batch   19/53   train_loss = 0.888\n",
      "Epoch  97 Batch   49/53   train_loss = 0.892\n",
      "Epoch  98 Batch   26/53   train_loss = 0.806\n",
      "Epoch  99 Batch    3/53   train_loss = 0.778\n",
      "Epoch  99 Batch   33/53   train_loss = 0.830\n",
      "Epoch 100 Batch   10/53   train_loss = 0.862\n",
      "Epoch 100 Batch   40/53   train_loss = 0.794\n",
      "Epoch 101 Batch   17/53   train_loss = 0.765\n",
      "Epoch 101 Batch   47/53   train_loss = 0.777\n",
      "Epoch 102 Batch   24/53   train_loss = 0.797\n",
      "Epoch 103 Batch    1/53   train_loss = 0.712\n"
     ]
    },
    {
     "name": "stdout",
     "output_type": "stream",
     "text": [
      "Epoch 103 Batch   31/53   train_loss = 0.793\n",
      "Epoch 104 Batch    8/53   train_loss = 0.664\n",
      "Epoch 104 Batch   38/53   train_loss = 0.760\n",
      "Epoch 105 Batch   15/53   train_loss = 0.669\n",
      "Epoch 105 Batch   45/53   train_loss = 0.736\n",
      "Epoch 106 Batch   22/53   train_loss = 0.719\n",
      "Epoch 106 Batch   52/53   train_loss = 0.707\n",
      "Epoch 107 Batch   29/53   train_loss = 0.699\n",
      "Epoch 108 Batch    6/53   train_loss = 0.638\n",
      "Epoch 108 Batch   36/53   train_loss = 0.665\n",
      "Epoch 109 Batch   13/53   train_loss = 0.586\n",
      "Epoch 109 Batch   43/53   train_loss = 0.613\n",
      "Epoch 110 Batch   20/53   train_loss = 0.659\n",
      "Epoch 110 Batch   50/53   train_loss = 0.604\n",
      "Epoch 111 Batch   27/53   train_loss = 0.579\n",
      "Epoch 112 Batch    4/53   train_loss = 0.621\n",
      "Epoch 112 Batch   34/53   train_loss = 0.601\n",
      "Epoch 113 Batch   11/53   train_loss = 0.661\n",
      "Epoch 113 Batch   41/53   train_loss = 0.552\n",
      "Epoch 114 Batch   18/53   train_loss = 0.582\n",
      "Epoch 114 Batch   48/53   train_loss = 0.562\n",
      "Epoch 115 Batch   25/53   train_loss = 0.565\n",
      "Epoch 116 Batch    2/53   train_loss = 0.491\n",
      "Epoch 116 Batch   32/53   train_loss = 0.514\n",
      "Epoch 117 Batch    9/53   train_loss = 0.548\n",
      "Epoch 117 Batch   39/53   train_loss = 0.505\n",
      "Epoch 118 Batch   16/53   train_loss = 0.622\n",
      "Epoch 118 Batch   46/53   train_loss = 0.618\n",
      "Epoch 119 Batch   23/53   train_loss = 0.553\n",
      "Epoch 120 Batch    0/53   train_loss = 0.550\n",
      "Epoch 120 Batch   30/53   train_loss = 0.490\n",
      "Epoch 121 Batch    7/53   train_loss = 0.524\n",
      "Epoch 121 Batch   37/53   train_loss = 0.511\n",
      "Epoch 122 Batch   14/53   train_loss = 0.480\n",
      "Epoch 122 Batch   44/53   train_loss = 0.525\n",
      "Epoch 123 Batch   21/53   train_loss = 0.455\n",
      "Epoch 123 Batch   51/53   train_loss = 0.562\n",
      "Epoch 124 Batch   28/53   train_loss = 0.484\n",
      "Epoch 125 Batch    5/53   train_loss = 0.495\n",
      "Epoch 125 Batch   35/53   train_loss = 0.471\n",
      "Epoch 126 Batch   12/53   train_loss = 0.497\n",
      "Epoch 126 Batch   42/53   train_loss = 0.533\n",
      "Epoch 127 Batch   19/53   train_loss = 0.498\n",
      "Epoch 127 Batch   49/53   train_loss = 0.524\n",
      "Epoch 128 Batch   26/53   train_loss = 0.464\n",
      "Epoch 129 Batch    3/53   train_loss = 0.463\n",
      "Epoch 129 Batch   33/53   train_loss = 0.504\n",
      "Epoch 130 Batch   10/53   train_loss = 0.541\n",
      "Epoch 130 Batch   40/53   train_loss = 0.469\n",
      "Epoch 131 Batch   17/53   train_loss = 0.464\n",
      "Epoch 131 Batch   47/53   train_loss = 0.472\n",
      "Epoch 132 Batch   24/53   train_loss = 0.492\n",
      "Epoch 133 Batch    1/53   train_loss = 0.455\n",
      "Epoch 133 Batch   31/53   train_loss = 0.490\n",
      "Epoch 134 Batch    8/53   train_loss = 0.434\n",
      "Epoch 134 Batch   38/53   train_loss = 0.472\n",
      "Epoch 135 Batch   15/53   train_loss = 0.481\n",
      "Epoch 135 Batch   45/53   train_loss = 0.467\n",
      "Epoch 136 Batch   22/53   train_loss = 0.491\n",
      "Epoch 136 Batch   52/53   train_loss = 0.481\n",
      "Epoch 137 Batch   29/53   train_loss = 0.490\n",
      "Epoch 138 Batch    6/53   train_loss = 0.424\n",
      "Epoch 138 Batch   36/53   train_loss = 0.449\n",
      "Epoch 139 Batch   13/53   train_loss = 0.417\n",
      "Epoch 139 Batch   43/53   train_loss = 0.427\n",
      "Epoch 140 Batch   20/53   train_loss = 0.477\n",
      "Epoch 140 Batch   50/53   train_loss = 0.433\n",
      "Epoch 141 Batch   27/53   train_loss = 0.429\n",
      "Epoch 142 Batch    4/53   train_loss = 0.452\n",
      "Epoch 142 Batch   34/53   train_loss = 0.409\n",
      "Epoch 143 Batch   11/53   train_loss = 0.469\n",
      "Epoch 143 Batch   41/53   train_loss = 0.411\n",
      "Epoch 144 Batch   18/53   train_loss = 0.424\n",
      "Epoch 144 Batch   48/53   train_loss = 0.427\n",
      "Epoch 145 Batch   25/53   train_loss = 0.429\n",
      "Epoch 146 Batch    2/53   train_loss = 0.344\n",
      "Epoch 146 Batch   32/53   train_loss = 0.397\n",
      "Epoch 147 Batch    9/53   train_loss = 0.425\n",
      "Epoch 147 Batch   39/53   train_loss = 0.389\n",
      "Epoch 148 Batch   16/53   train_loss = 0.461\n",
      "Epoch 148 Batch   46/53   train_loss = 0.453\n",
      "Epoch 149 Batch   23/53   train_loss = 0.413\n",
      "Epoch 150 Batch    0/53   train_loss = 0.431\n",
      "Epoch 150 Batch   30/53   train_loss = 0.384\n",
      "Epoch 151 Batch    7/53   train_loss = 0.398\n",
      "Epoch 151 Batch   37/53   train_loss = 0.409\n",
      "Epoch 152 Batch   14/53   train_loss = 0.380\n",
      "Epoch 152 Batch   44/53   train_loss = 0.390\n",
      "Epoch 153 Batch   21/53   train_loss = 0.365\n",
      "Epoch 153 Batch   51/53   train_loss = 0.431\n",
      "Epoch 154 Batch   28/53   train_loss = 0.366\n",
      "Epoch 155 Batch    5/53   train_loss = 0.382\n",
      "Epoch 155 Batch   35/53   train_loss = 0.386\n",
      "Epoch 156 Batch   12/53   train_loss = 0.382\n",
      "Epoch 156 Batch   42/53   train_loss = 0.405\n",
      "Epoch 157 Batch   19/53   train_loss = 0.396\n",
      "Epoch 157 Batch   49/53   train_loss = 0.427\n",
      "Epoch 158 Batch   26/53   train_loss = 0.386\n",
      "Epoch 159 Batch    3/53   train_loss = 0.376\n",
      "Epoch 159 Batch   33/53   train_loss = 0.411\n",
      "Epoch 160 Batch   10/53   train_loss = 0.431\n",
      "Epoch 160 Batch   40/53   train_loss = 0.392\n",
      "Epoch 161 Batch   17/53   train_loss = 0.389\n",
      "Epoch 161 Batch   47/53   train_loss = 0.403\n",
      "Epoch 162 Batch   24/53   train_loss = 0.432\n",
      "Epoch 163 Batch    1/53   train_loss = 0.374\n",
      "Epoch 163 Batch   31/53   train_loss = 0.410\n",
      "Epoch 164 Batch    8/53   train_loss = 0.387\n",
      "Epoch 164 Batch   38/53   train_loss = 0.402\n",
      "Epoch 165 Batch   15/53   train_loss = 0.416\n",
      "Epoch 165 Batch   45/53   train_loss = 0.406\n",
      "Epoch 166 Batch   22/53   train_loss = 0.419\n",
      "Epoch 166 Batch   52/53   train_loss = 0.409\n",
      "Epoch 167 Batch   29/53   train_loss = 0.430\n",
      "Epoch 168 Batch    6/53   train_loss = 0.364\n",
      "Epoch 168 Batch   36/53   train_loss = 0.400\n",
      "Epoch 169 Batch   13/53   train_loss = 0.387\n",
      "Epoch 169 Batch   43/53   train_loss = 0.381\n",
      "Epoch 170 Batch   20/53   train_loss = 0.430\n",
      "Epoch 170 Batch   50/53   train_loss = 0.392\n",
      "Epoch 171 Batch   27/53   train_loss = 0.388\n",
      "Epoch 172 Batch    4/53   train_loss = 0.415\n",
      "Epoch 172 Batch   34/53   train_loss = 0.374\n",
      "Epoch 173 Batch   11/53   train_loss = 0.410\n",
      "Epoch 173 Batch   41/53   train_loss = 0.366\n",
      "Epoch 174 Batch   18/53   train_loss = 0.403\n",
      "Epoch 174 Batch   48/53   train_loss = 0.399\n",
      "Epoch 175 Batch   25/53   train_loss = 0.418\n",
      "Epoch 176 Batch    2/53   train_loss = 0.338\n",
      "Epoch 176 Batch   32/53   train_loss = 0.367\n",
      "Epoch 177 Batch    9/53   train_loss = 0.418\n",
      "Epoch 177 Batch   39/53   train_loss = 0.368\n",
      "Epoch 178 Batch   16/53   train_loss = 0.433\n",
      "Epoch 178 Batch   46/53   train_loss = 0.438\n",
      "Epoch 179 Batch   23/53   train_loss = 0.398\n",
      "Epoch 180 Batch    0/53   train_loss = 0.406\n",
      "Epoch 180 Batch   30/53   train_loss = 0.374\n",
      "Epoch 181 Batch    7/53   train_loss = 0.389\n",
      "Epoch 181 Batch   37/53   train_loss = 0.391\n",
      "Epoch 182 Batch   14/53   train_loss = 0.376\n",
      "Epoch 182 Batch   44/53   train_loss = 0.379\n",
      "Epoch 183 Batch   21/53   train_loss = 0.367\n",
      "Epoch 183 Batch   51/53   train_loss = 0.427\n",
      "Epoch 184 Batch   28/53   train_loss = 0.354\n",
      "Epoch 185 Batch    5/53   train_loss = 0.380\n",
      "Epoch 185 Batch   35/53   train_loss = 0.374\n",
      "Epoch 186 Batch   12/53   train_loss = 0.363\n",
      "Epoch 186 Batch   42/53   train_loss = 0.383\n",
      "Epoch 187 Batch   19/53   train_loss = 0.379\n",
      "Epoch 187 Batch   49/53   train_loss = 0.412\n",
      "Epoch 188 Batch   26/53   train_loss = 0.379\n",
      "Epoch 189 Batch    3/53   train_loss = 0.365\n",
      "Epoch 189 Batch   33/53   train_loss = 0.394\n",
      "Epoch 190 Batch   10/53   train_loss = 0.408\n",
      "Epoch 190 Batch   40/53   train_loss = 0.366\n",
      "Epoch 191 Batch   17/53   train_loss = 0.373\n",
      "Epoch 191 Batch   47/53   train_loss = 0.378\n",
      "Epoch 192 Batch   24/53   train_loss = 0.414\n",
      "Epoch 193 Batch    1/53   train_loss = 0.361\n",
      "Epoch 193 Batch   31/53   train_loss = 0.391\n",
      "Epoch 194 Batch    8/53   train_loss = 0.359\n",
      "Epoch 194 Batch   38/53   train_loss = 0.384\n",
      "Epoch 195 Batch   15/53   train_loss = 0.384\n",
      "Epoch 195 Batch   45/53   train_loss = 0.369\n",
      "Epoch 196 Batch   22/53   train_loss = 0.402\n",
      "Epoch 196 Batch   52/53   train_loss = 0.380\n",
      "Epoch 197 Batch   29/53   train_loss = 0.393\n",
      "Epoch 198 Batch    6/53   train_loss = 0.355\n",
      "Epoch 198 Batch   36/53   train_loss = 0.365\n",
      "Epoch 199 Batch   13/53   train_loss = 0.355\n",
      "Epoch 199 Batch   43/53   train_loss = 0.358\n",
      "Model Trained and Saved\n"
     ]
    }
   ],
   "source": [
    "\"\"\"\n",
    "DON'T MODIFY ANYTHING IN THIS CELL\n",
    "\"\"\"\n",
    "batches = get_batches(int_text, batch_size, seq_length)\n",
    "\n",
    "with tf.Session(graph=train_graph) as sess:\n",
    "    sess.run(tf.global_variables_initializer())\n",
    "\n",
    "    for epoch_i in range(num_epochs):\n",
    "        state = sess.run(initial_state, {input_text: batches[0][0]})\n",
    "\n",
    "        for batch_i, (x, y) in enumerate(batches):\n",
    "            feed = {\n",
    "                input_text: x,\n",
    "                targets: y,\n",
    "                initial_state: state,\n",
    "                lr: learning_rate}\n",
    "            train_loss, state, _ = sess.run([cost, final_state, train_op], feed)\n",
    "\n",
    "            # Show every <show_every_n_batches> batches\n",
    "            if (epoch_i * len(batches) + batch_i) % show_every_n_batches == 0:\n",
    "                print('Epoch {:>3} Batch {:>4}/{}   train_loss = {:.3f}'.format(\n",
    "                    epoch_i,\n",
    "                    batch_i,\n",
    "                    len(batches),\n",
    "                    train_loss))\n",
    "\n",
    "    # Save Model\n",
    "    saver = tf.train.Saver()\n",
    "    saver.save(sess, save_dir)\n",
    "    print('Model Trained and Saved')"
   ]
  },
  {
   "cell_type": "markdown",
   "metadata": {},
   "source": [
    "## Save Parameters\n",
    "Save `seq_length` and `save_dir` for generating a new TV script."
   ]
  },
  {
   "cell_type": "code",
   "execution_count": 46,
   "metadata": {
    "collapsed": true
   },
   "outputs": [],
   "source": [
    "\"\"\"\n",
    "DON'T MODIFY ANYTHING IN THIS CELL\n",
    "\"\"\"\n",
    "# Save parameters for checkpoint\n",
    "helper.save_params((seq_length, save_dir))"
   ]
  },
  {
   "cell_type": "markdown",
   "metadata": {},
   "source": [
    "# Checkpoint"
   ]
  },
  {
   "cell_type": "code",
   "execution_count": 47,
   "metadata": {},
   "outputs": [],
   "source": [
    "\"\"\"\n",
    "DON'T MODIFY ANYTHING IN THIS CELL\n",
    "\"\"\"\n",
    "import tensorflow as tf\n",
    "import numpy as np\n",
    "import helper\n",
    "import problem_unittests as tests\n",
    "\n",
    "_, vocab_to_int, int_to_vocab, token_dict = helper.load_preprocess()\n",
    "seq_length, load_dir = helper.load_params()"
   ]
  },
  {
   "cell_type": "markdown",
   "metadata": {},
   "source": [
    "## Implement Generate Functions\n",
    "### Get Tensors\n",
    "Get tensors from `loaded_graph` using the function [`get_tensor_by_name()`](https://www.tensorflow.org/api_docs/python/tf/Graph#get_tensor_by_name).  Get the tensors using the following names:\n",
    "- \"input:0\"\n",
    "- \"initial_state:0\"\n",
    "- \"final_state:0\"\n",
    "- \"probs:0\"\n",
    "\n",
    "Return the tensors in the following tuple `(InputTensor, InitialStateTensor, FinalStateTensor, ProbsTensor)` "
   ]
  },
  {
   "cell_type": "code",
   "execution_count": 48,
   "metadata": {},
   "outputs": [
    {
     "name": "stdout",
     "output_type": "stream",
     "text": [
      "Tests Passed\n"
     ]
    }
   ],
   "source": [
    "def get_tensors(loaded_graph):\n",
    "    \"\"\"\n",
    "    Get input, initial state, final state, and probabilities tensor from <loaded_graph>\n",
    "    :param loaded_graph: TensorFlow graph loaded from file\n",
    "    :return: Tuple (InputTensor, InitialStateTensor, FinalStateTensor, ProbsTensor)\n",
    "    \"\"\"\n",
    "    InputTensor  = loaded_graph.get_tensor_by_name(\"input:0\")\n",
    "    InitialStateTensor =  loaded_graph.get_tensor_by_name(\"initial_state:0\")\n",
    "    FinalStateTensor = loaded_graph.get_tensor_by_name(\"final_state:0\")\n",
    "    ProbsTensor = loaded_graph.get_tensor_by_name(\"probs:0\")\n",
    "    return InputTensor, InitialStateTensor, FinalStateTensor, ProbsTensor\n",
    "\n",
    "\n",
    "\"\"\"\n",
    "DON'T MODIFY ANYTHING IN THIS CELL THAT IS BELOW THIS LINE\n",
    "\"\"\"\n",
    "tests.test_get_tensors(get_tensors)"
   ]
  },
  {
   "cell_type": "markdown",
   "metadata": {},
   "source": [
    "### Choose Word\n",
    "Implement the `pick_word()` function to select the next word using `probabilities`."
   ]
  },
  {
   "cell_type": "code",
   "execution_count": 66,
   "metadata": {},
   "outputs": [
    {
     "name": "stdout",
     "output_type": "stream",
     "text": [
      "Tests Passed\n"
     ]
    }
   ],
   "source": [
    "def pick_word(probabilities, int_to_vocab):\n",
    "    \"\"\"\n",
    "    Pick the next word in the generated text\n",
    "    :param probabilities: Probabilites of the next word\n",
    "    :param int_to_vocab: Dictionary of word ids as the keys and words as the values\n",
    "    :return: String of the predicted word\n",
    "    \"\"\"\n",
    "    # TODO: Implement Function\n",
    "    w = int_to_vocab[np.argmax(probabilities)]\n",
    "    return w\n",
    "\n",
    "\n",
    "\"\"\"\n",
    "DON'T MODIFY ANYTHING IN THIS CELL THAT IS BELOW THIS LINE\n",
    "\"\"\"\n",
    "tests.test_pick_word(pick_word)"
   ]
  },
  {
   "cell_type": "markdown",
   "metadata": {},
   "source": [
    "## Generate TV Script\n",
    "This will generate the TV script for you.  Set `gen_length` to the length of TV script you want to generate."
   ]
  },
  {
   "cell_type": "code",
   "execution_count": 68,
   "metadata": {},
   "outputs": [
    {
     "name": "stdout",
     "output_type": "stream",
     "text": [
      "INFO:tensorflow:Restoring parameters from ./save\n",
      "homer_simpson:(drunk) yeah, you're right, moe.(homer's voice)\n",
      "\n",
      "\n",
      "homer_simpson: there's an exit.\n",
      "homer_simpson:(loud whisper) oh, now harder gotta get a walk.\n",
      "moe_szyslak:(surprised) you know what i never have to break up.\n",
      "moe_szyslak:(sotto) i knew goblins had feelings to calculate that moolah-stealing, three, twenty-two...\n",
      "barney_gumble: geez, what would you?\n",
      "homer_simpson:(gasps) gr-aargh! oh, i can ya?\n",
      "moe_szyslak: so, i know... i am.\n",
      "carl_carlson: hey, moe. if you say the two company i can no longer pleasure me things since(beat) uh... this man has switched brains with the ball and their best friend is in a new(raises deal what to get out of your stealings.\n",
      "lenny_leonard:(surprised) you, wait, wait, wait here you did he go of the last one, moe.\n",
      "moe_szyslak: oh, that would do not in that.\n",
      "barney_gumble: you guys mind\n"
     ]
    }
   ],
   "source": [
    "gen_length = 200\n",
    "# homer_simpson, moe_szyslak, or Barney_Gumble\n",
    "prime_word = 'homer_simpson'\n",
    "\n",
    "\"\"\"\n",
    "DON'T MODIFY ANYTHING IN THIS CELL THAT IS BELOW THIS LINE\n",
    "\"\"\"\n",
    "loaded_graph = tf.Graph()\n",
    "with tf.Session(graph=loaded_graph) as sess:\n",
    "    # Load saved model\n",
    "    loader = tf.train.import_meta_graph(load_dir + '.meta')\n",
    "    loader.restore(sess, load_dir)\n",
    "\n",
    "    # Get Tensors from loaded model\n",
    "    input_text, initial_state, final_state, probs = get_tensors(loaded_graph)\n",
    "\n",
    "    # Sentences generation setup\n",
    "    gen_sentences = [prime_word + ':']\n",
    "    prev_state = sess.run(initial_state, {input_text: np.array([[1]])})\n",
    "\n",
    "    # Generate sentences\n",
    "    for n in range(gen_length):\n",
    "        # Dynamic Input\n",
    "        dyn_input = [[vocab_to_int[word] for word in gen_sentences[-seq_length:]]]\n",
    "        dyn_seq_length = len(dyn_input[0])\n",
    "\n",
    "        # Get Prediction\n",
    "        probabilities, prev_state = sess.run(\n",
    "            [probs, final_state],\n",
    "            {input_text: dyn_input, initial_state: prev_state})\n",
    "#         print(\"len of probabilities\", probabilities[0,:,:][dyn_seq_length-1].shape)\n",
    "\n",
    "        pred_word = pick_word(probabilities[0,:,:][dyn_seq_length-1], int_to_vocab)\n",
    "\n",
    "        gen_sentences.append(pred_word)\n",
    "    \n",
    "    # Remove tokens\n",
    "    tv_script = ' '.join(gen_sentences)\n",
    "    for key, token in token_dict.items():\n",
    "        ending = ' ' if key in ['\\n', '(', '\"'] else ''\n",
    "        tv_script = tv_script.replace(' ' + token.lower(), key)\n",
    "    tv_script = tv_script.replace('\\n ', '\\n')\n",
    "    tv_script = tv_script.replace('( ', '(')\n",
    "        \n",
    "    print(tv_script)"
   ]
  },
  {
   "cell_type": "markdown",
   "metadata": {},
   "source": [
    "# The TV Script is Nonsensical\n",
    "It's ok if the TV script doesn't make any sense.  We trained on less than a megabyte of text.  In order to get good results, you'll have to use a smaller vocabulary or get more data.  Luckly there's more data!  As we mentioned in the begging of this project, this is a subset of [another dataset](https://www.kaggle.com/wcukierski/the-simpsons-by-the-data).  We didn't have you train on all the data, because that would take too long.  However, you are free to train your neural network on all the data.  After you complete the project, of course.\n",
    "# Submitting This Project\n",
    "When submitting this project, make sure to run all the cells before saving the notebook. Save the notebook file as \"dlnd_tv_script_generation.ipynb\" and save it as a HTML file under \"File\" -> \"Download as\". Include the \"helper.py\" and \"problem_unittests.py\" files in your submission."
   ]
  }
 ],
 "metadata": {
  "kernelspec": {
   "display_name": "Python 2",
   "language": "python",
   "name": "python2"
  },
  "language_info": {
   "codemirror_mode": {
    "name": "ipython",
    "version": 2
   },
   "file_extension": ".py",
   "mimetype": "text/x-python",
   "name": "python",
   "nbconvert_exporter": "python",
   "pygments_lexer": "ipython2",
   "version": "2.7.12"
  },
  "widgets": {
   "state": {},
   "version": "1.1.2"
  }
 },
 "nbformat": 4,
 "nbformat_minor": 1
}
